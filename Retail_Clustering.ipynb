{
  "cells": [
    {
      "cell_type": "code",
      "execution_count": null,
      "id": "628972ec",
      "metadata": {
        "id": "628972ec"
      },
      "outputs": [],
      "source": [
        "import numpy as np\n",
        "import pandas as pd\n",
        "import matplotlib.pyplot as plt\n",
        "import seaborn as sns"
      ]
    },
    {
      "cell_type": "code",
      "source": [
        "%ls"
      ],
      "metadata": {
        "colab": {
          "base_uri": "https://localhost:8080/"
        },
        "id": "k7SVeKAOFanK",
        "outputId": "c55af6dc-82c1-4326-a1a6-e574528fded8"
      },
      "id": "k7SVeKAOFanK",
      "execution_count": null,
      "outputs": [
        {
          "output_type": "stream",
          "name": "stdout",
          "text": [
            " 0462010519310519.pdf                    \u001b[0m\u001b[01;34mDenish\u001b[0m/\n",
            "'1558359639270_0_CV_Tejal Bhatti.gdoc'   Denish.h5\n",
            "'1558359639270_0_CV_Tejal Bhatti.pdf'    feature_scaling.pkl\n",
            " 20200901_154608-COLLAGE.jpg             filepath.h5\n",
            " 20_August_82.h5                        'hotel_bookings(2).csv'\n",
            "'2E_Aadhya_Bhatti(1).jpg'               'How to get started with Drive.pdf'\n",
            " 2E_Aadhya_Bhatti.jpg                    image.png\n",
            "'àadhya_ 2E.mp4'                         IMG-20201110-WA0000.jpg\n",
            " Aadhya_2E.mp4                           IMG-20210219-WA0008.jpg\n",
            "'Aadhya Bhatti 2E.jpg'                   img321.jpg\n",
            "'Aadhya BirthCertificate.pdf'           'Infos Spielgruppe_Englishversion.docx'\n",
            " agriculture                             Interview1.pptx\n",
            " assignment_Complex.py                  'Invoice OD301527907250964400.pdf'\n",
            "'Bachelor Degrees Transcript.pdf'        \u001b[01;34mplant\u001b[0m/\n",
            " cat_dog_data.zip                        PlantVillage.zip\n",
            " Churn_Modelling.csv                     \u001b[01;34mtejal\u001b[0m/\n",
            "\u001b[01;34m'Colab Notebooks'\u001b[0m/                       Tejal_Resume1.pdf\n",
            "'Copy of 1. Data Scientist.gdoc'         titanic.csv\n",
            "'Cover Letter- Swiss Dependent.doc'     'Transcripts Masters Degree.pdf'\n",
            "'CV_Tejal Bhatti (1).docx'              'Untitled document (1).gdoc'\n",
            "'CV_Tejal Bhatti.doc'                   'Untitled document (2).gdoc'\n",
            "'CV_Tejal Bhatti.docx'                  'Untitled document.gdoc'\n",
            " \u001b[01;34mdataset\u001b[0m/\n"
          ]
        }
      ]
    },
    {
      "cell_type": "code",
      "source": [
        "%cd drive"
      ],
      "metadata": {
        "colab": {
          "base_uri": "https://localhost:8080/"
        },
        "id": "yz79vUfSFedN",
        "outputId": "7ded8b01-a98f-4916-dd8f-706a8314354f"
      },
      "id": "yz79vUfSFedN",
      "execution_count": null,
      "outputs": [
        {
          "output_type": "stream",
          "name": "stdout",
          "text": [
            "[Errno 2] No such file or directory: 'drive'\n",
            "/content/drive/MyDrive\n"
          ]
        }
      ]
    },
    {
      "cell_type": "code",
      "source": [
        "%ls"
      ],
      "metadata": {
        "colab": {
          "base_uri": "https://localhost:8080/"
        },
        "id": "RbTZHGPCFjf5",
        "outputId": "c75c2577-3fc5-4407-9a85-d465967a97e4"
      },
      "id": "RbTZHGPCFjf5",
      "execution_count": null,
      "outputs": [
        {
          "output_type": "stream",
          "name": "stdout",
          "text": [
            " 0462010519310519.pdf                    \u001b[0m\u001b[01;34mDenish\u001b[0m/\n",
            "'1558359639270_0_CV_Tejal Bhatti.gdoc'   Denish.h5\n",
            "'1558359639270_0_CV_Tejal Bhatti.pdf'    feature_scaling.pkl\n",
            " 20200901_154608-COLLAGE.jpg             filepath.h5\n",
            " 20_August_82.h5                        'hotel_bookings(2).csv'\n",
            "'2E_Aadhya_Bhatti(1).jpg'               'How to get started with Drive.pdf'\n",
            " 2E_Aadhya_Bhatti.jpg                    image.png\n",
            "'àadhya_ 2E.mp4'                         IMG-20201110-WA0000.jpg\n",
            " Aadhya_2E.mp4                           IMG-20210219-WA0008.jpg\n",
            "'Aadhya Bhatti 2E.jpg'                   img321.jpg\n",
            "'Aadhya BirthCertificate.pdf'           'Infos Spielgruppe_Englishversion.docx'\n",
            " agriculture                             Interview1.pptx\n",
            " assignment_Complex.py                  'Invoice OD301527907250964400.pdf'\n",
            "'Bachelor Degrees Transcript.pdf'        \u001b[01;34mplant\u001b[0m/\n",
            " cat_dog_data.zip                        PlantVillage.zip\n",
            " Churn_Modelling.csv                     \u001b[01;34mtejal\u001b[0m/\n",
            "\u001b[01;34m'Colab Notebooks'\u001b[0m/                       Tejal_Resume1.pdf\n",
            "'Copy of 1. Data Scientist.gdoc'         titanic.csv\n",
            "'Cover Letter- Swiss Dependent.doc'     'Transcripts Masters Degree.pdf'\n",
            "'CV_Tejal Bhatti (1).docx'              'Untitled document (1).gdoc'\n",
            "'CV_Tejal Bhatti.doc'                   'Untitled document (2).gdoc'\n",
            "'CV_Tejal Bhatti.docx'                  'Untitled document.gdoc'\n",
            " \u001b[01;34mdataset\u001b[0m/\n"
          ]
        }
      ]
    },
    {
      "cell_type": "code",
      "source": [
        "%cd MyDrive"
      ],
      "metadata": {
        "colab": {
          "base_uri": "https://localhost:8080/"
        },
        "id": "A4o0mHDeFmsw",
        "outputId": "ef313994-cae9-4bac-f854-03d3596e74e9"
      },
      "id": "A4o0mHDeFmsw",
      "execution_count": null,
      "outputs": [
        {
          "output_type": "stream",
          "name": "stdout",
          "text": [
            "/content/drive/MyDrive\n"
          ]
        }
      ]
    },
    {
      "cell_type": "code",
      "source": [
        "%ls"
      ],
      "metadata": {
        "colab": {
          "base_uri": "https://localhost:8080/"
        },
        "id": "p5agvnULGSYv",
        "outputId": "3c085def-b834-4ec5-b82d-1a07cb0d7915"
      },
      "id": "p5agvnULGSYv",
      "execution_count": null,
      "outputs": [
        {
          "output_type": "stream",
          "name": "stdout",
          "text": [
            " 0462010519310519.pdf                    \u001b[0m\u001b[01;34mDenish\u001b[0m/\n",
            "'1558359639270_0_CV_Tejal Bhatti.gdoc'   Denish.h5\n",
            "'1558359639270_0_CV_Tejal Bhatti.pdf'    feature_scaling.pkl\n",
            " 20200901_154608-COLLAGE.jpg             filepath.h5\n",
            " 20_August_82.h5                        'hotel_bookings(2).csv'\n",
            "'2E_Aadhya_Bhatti(1).jpg'               'How to get started with Drive.pdf'\n",
            " 2E_Aadhya_Bhatti.jpg                    image.png\n",
            "'àadhya_ 2E.mp4'                         IMG-20201110-WA0000.jpg\n",
            " Aadhya_2E.mp4                           IMG-20210219-WA0008.jpg\n",
            "'Aadhya Bhatti 2E.jpg'                   img321.jpg\n",
            "'Aadhya BirthCertificate.pdf'           'Infos Spielgruppe_Englishversion.docx'\n",
            " agriculture                             Interview1.pptx\n",
            " assignment_Complex.py                  'Invoice OD301527907250964400.pdf'\n",
            "'Bachelor Degrees Transcript.pdf'        \u001b[01;34mplant\u001b[0m/\n",
            " cat_dog_data.zip                        PlantVillage.zip\n",
            " Churn_Modelling.csv                     \u001b[01;34mtejal\u001b[0m/\n",
            "\u001b[01;34m'Colab Notebooks'\u001b[0m/                       Tejal_Resume1.pdf\n",
            "'Copy of 1. Data Scientist.gdoc'         titanic.csv\n",
            "'Cover Letter- Swiss Dependent.doc'     'Transcripts Masters Degree.pdf'\n",
            "'CV_Tejal Bhatti (1).docx'              'Untitled document (1).gdoc'\n",
            "'CV_Tejal Bhatti.doc'                   'Untitled document (2).gdoc'\n",
            "'CV_Tejal Bhatti.docx'                  'Untitled document.gdoc'\n",
            " \u001b[01;34mdataset\u001b[0m/\n"
          ]
        }
      ]
    },
    {
      "cell_type": "code",
      "source": [
        "pip install --upgrade xlrd"
      ],
      "metadata": {
        "colab": {
          "base_uri": "https://localhost:8080/"
        },
        "id": "VGGCSlp9HpoJ",
        "outputId": "83a59629-6347-4a32-d543-54bf275b005e"
      },
      "id": "VGGCSlp9HpoJ",
      "execution_count": null,
      "outputs": [
        {
          "output_type": "stream",
          "name": "stdout",
          "text": [
            "Requirement already satisfied: xlrd in /usr/local/lib/python3.7/dist-packages (2.0.1)\n"
          ]
        }
      ]
    },
    {
      "cell_type": "code",
      "execution_count": null,
      "id": "749f6e39",
      "metadata": {
        "id": "749f6e39",
        "outputId": "56b2c8be-e294-44c5-94b3-9c10df4b617b",
        "colab": {
          "base_uri": "https://localhost:8080/",
          "height": 424
        }
      },
      "outputs": [
        {
          "output_type": "execute_result",
          "data": {
            "text/plain": [
              "       InvoiceNo StockCode                          Description  Quantity  \\\n",
              "0       536365.0    85123A   WHITE HANGING HEART T-LIGHT HOLDER       6.0   \n",
              "1            NaN   71053.0                  WHITE METAL LANTERN       6.0   \n",
              "2       536365.0    84406B       CREAM CUPID HEARTS COAT HANGER       8.0   \n",
              "3       536365.0    84029G  KNITTED UNION FLAG HOT WATER BOTTLE       6.0   \n",
              "4       536365.0    84029E       RED WOOLLY HOTTIE WHITE HEART.       6.0   \n",
              "...          ...       ...                                  ...       ...   \n",
              "541904  581587.0   22613.0          PACK OF 20 SPACEBOY NAPKINS      12.0   \n",
              "541905  581587.0   22899.0         CHILDREN'S APRON DOLLY GIRL        6.0   \n",
              "541906  581587.0   23254.0        CHILDRENS CUTLERY DOLLY GIRL        4.0   \n",
              "541907  581587.0   23255.0      CHILDRENS CUTLERY CIRCUS PARADE       4.0   \n",
              "541908  581587.0   22138.0        BAKING SET 9 PIECE RETROSPOT        3.0   \n",
              "\n",
              "               InvoiceDate  UnitPrice  CustomerID         Country  \n",
              "0      2010-12-01 08:26:00       2.55     17850.0  United Kingdom  \n",
              "1      2010-12-01 08:26:00       3.39     17850.0  United Kingdom  \n",
              "2      2010-12-01 08:26:00       2.75     17850.0  United Kingdom  \n",
              "3      2010-12-01 08:26:00       3.39     17850.0  United Kingdom  \n",
              "4      2010-12-01 08:26:00       3.39     17850.0  United Kingdom  \n",
              "...                    ...        ...         ...             ...  \n",
              "541904 2011-12-09 12:50:00       0.85     12680.0          France  \n",
              "541905 2011-12-09 12:50:00       2.10     12680.0          France  \n",
              "541906 2011-12-09 12:50:00       4.15     12680.0          France  \n",
              "541907 2011-12-09 12:50:00       4.15     12680.0          France  \n",
              "541908 2011-12-09 12:50:00       4.95     12680.0          France  \n",
              "\n",
              "[541909 rows x 8 columns]"
            ],
            "text/html": [
              "\n",
              "  <div id=\"df-4c77cc04-10e5-4c32-a045-aff9a35a9dbf\">\n",
              "    <div class=\"colab-df-container\">\n",
              "      <div>\n",
              "<style scoped>\n",
              "    .dataframe tbody tr th:only-of-type {\n",
              "        vertical-align: middle;\n",
              "    }\n",
              "\n",
              "    .dataframe tbody tr th {\n",
              "        vertical-align: top;\n",
              "    }\n",
              "\n",
              "    .dataframe thead th {\n",
              "        text-align: right;\n",
              "    }\n",
              "</style>\n",
              "<table border=\"1\" class=\"dataframe\">\n",
              "  <thead>\n",
              "    <tr style=\"text-align: right;\">\n",
              "      <th></th>\n",
              "      <th>InvoiceNo</th>\n",
              "      <th>StockCode</th>\n",
              "      <th>Description</th>\n",
              "      <th>Quantity</th>\n",
              "      <th>InvoiceDate</th>\n",
              "      <th>UnitPrice</th>\n",
              "      <th>CustomerID</th>\n",
              "      <th>Country</th>\n",
              "    </tr>\n",
              "  </thead>\n",
              "  <tbody>\n",
              "    <tr>\n",
              "      <th>0</th>\n",
              "      <td>536365.0</td>\n",
              "      <td>85123A</td>\n",
              "      <td>WHITE HANGING HEART T-LIGHT HOLDER</td>\n",
              "      <td>6.0</td>\n",
              "      <td>2010-12-01 08:26:00</td>\n",
              "      <td>2.55</td>\n",
              "      <td>17850.0</td>\n",
              "      <td>United Kingdom</td>\n",
              "    </tr>\n",
              "    <tr>\n",
              "      <th>1</th>\n",
              "      <td>NaN</td>\n",
              "      <td>71053.0</td>\n",
              "      <td>WHITE METAL LANTERN</td>\n",
              "      <td>6.0</td>\n",
              "      <td>2010-12-01 08:26:00</td>\n",
              "      <td>3.39</td>\n",
              "      <td>17850.0</td>\n",
              "      <td>United Kingdom</td>\n",
              "    </tr>\n",
              "    <tr>\n",
              "      <th>2</th>\n",
              "      <td>536365.0</td>\n",
              "      <td>84406B</td>\n",
              "      <td>CREAM CUPID HEARTS COAT HANGER</td>\n",
              "      <td>8.0</td>\n",
              "      <td>2010-12-01 08:26:00</td>\n",
              "      <td>2.75</td>\n",
              "      <td>17850.0</td>\n",
              "      <td>United Kingdom</td>\n",
              "    </tr>\n",
              "    <tr>\n",
              "      <th>3</th>\n",
              "      <td>536365.0</td>\n",
              "      <td>84029G</td>\n",
              "      <td>KNITTED UNION FLAG HOT WATER BOTTLE</td>\n",
              "      <td>6.0</td>\n",
              "      <td>2010-12-01 08:26:00</td>\n",
              "      <td>3.39</td>\n",
              "      <td>17850.0</td>\n",
              "      <td>United Kingdom</td>\n",
              "    </tr>\n",
              "    <tr>\n",
              "      <th>4</th>\n",
              "      <td>536365.0</td>\n",
              "      <td>84029E</td>\n",
              "      <td>RED WOOLLY HOTTIE WHITE HEART.</td>\n",
              "      <td>6.0</td>\n",
              "      <td>2010-12-01 08:26:00</td>\n",
              "      <td>3.39</td>\n",
              "      <td>17850.0</td>\n",
              "      <td>United Kingdom</td>\n",
              "    </tr>\n",
              "    <tr>\n",
              "      <th>...</th>\n",
              "      <td>...</td>\n",
              "      <td>...</td>\n",
              "      <td>...</td>\n",
              "      <td>...</td>\n",
              "      <td>...</td>\n",
              "      <td>...</td>\n",
              "      <td>...</td>\n",
              "      <td>...</td>\n",
              "    </tr>\n",
              "    <tr>\n",
              "      <th>541904</th>\n",
              "      <td>581587.0</td>\n",
              "      <td>22613.0</td>\n",
              "      <td>PACK OF 20 SPACEBOY NAPKINS</td>\n",
              "      <td>12.0</td>\n",
              "      <td>2011-12-09 12:50:00</td>\n",
              "      <td>0.85</td>\n",
              "      <td>12680.0</td>\n",
              "      <td>France</td>\n",
              "    </tr>\n",
              "    <tr>\n",
              "      <th>541905</th>\n",
              "      <td>581587.0</td>\n",
              "      <td>22899.0</td>\n",
              "      <td>CHILDREN'S APRON DOLLY GIRL</td>\n",
              "      <td>6.0</td>\n",
              "      <td>2011-12-09 12:50:00</td>\n",
              "      <td>2.10</td>\n",
              "      <td>12680.0</td>\n",
              "      <td>France</td>\n",
              "    </tr>\n",
              "    <tr>\n",
              "      <th>541906</th>\n",
              "      <td>581587.0</td>\n",
              "      <td>23254.0</td>\n",
              "      <td>CHILDRENS CUTLERY DOLLY GIRL</td>\n",
              "      <td>4.0</td>\n",
              "      <td>2011-12-09 12:50:00</td>\n",
              "      <td>4.15</td>\n",
              "      <td>12680.0</td>\n",
              "      <td>France</td>\n",
              "    </tr>\n",
              "    <tr>\n",
              "      <th>541907</th>\n",
              "      <td>581587.0</td>\n",
              "      <td>23255.0</td>\n",
              "      <td>CHILDRENS CUTLERY CIRCUS PARADE</td>\n",
              "      <td>4.0</td>\n",
              "      <td>2011-12-09 12:50:00</td>\n",
              "      <td>4.15</td>\n",
              "      <td>12680.0</td>\n",
              "      <td>France</td>\n",
              "    </tr>\n",
              "    <tr>\n",
              "      <th>541908</th>\n",
              "      <td>581587.0</td>\n",
              "      <td>22138.0</td>\n",
              "      <td>BAKING SET 9 PIECE RETROSPOT</td>\n",
              "      <td>3.0</td>\n",
              "      <td>2011-12-09 12:50:00</td>\n",
              "      <td>4.95</td>\n",
              "      <td>12680.0</td>\n",
              "      <td>France</td>\n",
              "    </tr>\n",
              "  </tbody>\n",
              "</table>\n",
              "<p>541909 rows × 8 columns</p>\n",
              "</div>\n",
              "      <button class=\"colab-df-convert\" onclick=\"convertToInteractive('df-4c77cc04-10e5-4c32-a045-aff9a35a9dbf')\"\n",
              "              title=\"Convert this dataframe to an interactive table.\"\n",
              "              style=\"display:none;\">\n",
              "        \n",
              "  <svg xmlns=\"http://www.w3.org/2000/svg\" height=\"24px\"viewBox=\"0 0 24 24\"\n",
              "       width=\"24px\">\n",
              "    <path d=\"M0 0h24v24H0V0z\" fill=\"none\"/>\n",
              "    <path d=\"M18.56 5.44l.94 2.06.94-2.06 2.06-.94-2.06-.94-.94-2.06-.94 2.06-2.06.94zm-11 1L8.5 8.5l.94-2.06 2.06-.94-2.06-.94L8.5 2.5l-.94 2.06-2.06.94zm10 10l.94 2.06.94-2.06 2.06-.94-2.06-.94-.94-2.06-.94 2.06-2.06.94z\"/><path d=\"M17.41 7.96l-1.37-1.37c-.4-.4-.92-.59-1.43-.59-.52 0-1.04.2-1.43.59L10.3 9.45l-7.72 7.72c-.78.78-.78 2.05 0 2.83L4 21.41c.39.39.9.59 1.41.59.51 0 1.02-.2 1.41-.59l7.78-7.78 2.81-2.81c.8-.78.8-2.07 0-2.86zM5.41 20L4 18.59l7.72-7.72 1.47 1.35L5.41 20z\"/>\n",
              "  </svg>\n",
              "      </button>\n",
              "      \n",
              "  <style>\n",
              "    .colab-df-container {\n",
              "      display:flex;\n",
              "      flex-wrap:wrap;\n",
              "      gap: 12px;\n",
              "    }\n",
              "\n",
              "    .colab-df-convert {\n",
              "      background-color: #E8F0FE;\n",
              "      border: none;\n",
              "      border-radius: 50%;\n",
              "      cursor: pointer;\n",
              "      display: none;\n",
              "      fill: #1967D2;\n",
              "      height: 32px;\n",
              "      padding: 0 0 0 0;\n",
              "      width: 32px;\n",
              "    }\n",
              "\n",
              "    .colab-df-convert:hover {\n",
              "      background-color: #E2EBFA;\n",
              "      box-shadow: 0px 1px 2px rgba(60, 64, 67, 0.3), 0px 1px 3px 1px rgba(60, 64, 67, 0.15);\n",
              "      fill: #174EA6;\n",
              "    }\n",
              "\n",
              "    [theme=dark] .colab-df-convert {\n",
              "      background-color: #3B4455;\n",
              "      fill: #D2E3FC;\n",
              "    }\n",
              "\n",
              "    [theme=dark] .colab-df-convert:hover {\n",
              "      background-color: #434B5C;\n",
              "      box-shadow: 0px 1px 3px 1px rgba(0, 0, 0, 0.15);\n",
              "      filter: drop-shadow(0px 1px 2px rgba(0, 0, 0, 0.3));\n",
              "      fill: #FFFFFF;\n",
              "    }\n",
              "  </style>\n",
              "\n",
              "      <script>\n",
              "        const buttonEl =\n",
              "          document.querySelector('#df-4c77cc04-10e5-4c32-a045-aff9a35a9dbf button.colab-df-convert');\n",
              "        buttonEl.style.display =\n",
              "          google.colab.kernel.accessAllowed ? 'block' : 'none';\n",
              "\n",
              "        async function convertToInteractive(key) {\n",
              "          const element = document.querySelector('#df-4c77cc04-10e5-4c32-a045-aff9a35a9dbf');\n",
              "          const dataTable =\n",
              "            await google.colab.kernel.invokeFunction('convertToInteractive',\n",
              "                                                     [key], {});\n",
              "          if (!dataTable) return;\n",
              "\n",
              "          const docLinkHtml = 'Like what you see? Visit the ' +\n",
              "            '<a target=\"_blank\" href=https://colab.research.google.com/notebooks/data_table.ipynb>data table notebook</a>'\n",
              "            + ' to learn more about interactive tables.';\n",
              "          element.innerHTML = '';\n",
              "          dataTable['output_type'] = 'display_data';\n",
              "          await google.colab.output.renderOutput(dataTable, element);\n",
              "          const docLink = document.createElement('div');\n",
              "          docLink.innerHTML = docLinkHtml;\n",
              "          element.appendChild(docLink);\n",
              "        }\n",
              "      </script>\n",
              "    </div>\n",
              "  </div>\n",
              "  "
            ]
          },
          "metadata": {},
          "execution_count": 27
        }
      ],
      "source": [
        "df = pd.read_excel('/content/drive/MyDrive/tejal/Online Retail(1).xlsx')\n",
        "df"
      ]
    },
    {
      "cell_type": "code",
      "source": [
        "from google.colab import drive\n",
        "drive.mount('/content/drive')"
      ],
      "metadata": {
        "id": "IZvpmH17Lltc",
        "colab": {
          "base_uri": "https://localhost:8080/"
        },
        "outputId": "39903d9d-0166-490a-af0a-e29dad5dc638"
      },
      "id": "IZvpmH17Lltc",
      "execution_count": null,
      "outputs": [
        {
          "output_type": "stream",
          "name": "stdout",
          "text": [
            "Drive already mounted at /content/drive; to attempt to forcibly remount, call drive.mount(\"/content/drive\", force_remount=True).\n"
          ]
        }
      ]
    },
    {
      "cell_type": "code",
      "execution_count": null,
      "id": "37a88761",
      "metadata": {
        "id": "37a88761"
      },
      "outputs": [],
      "source": [
        "# df.drop(['StockCode', 'Description', 'CustomerID'], axis=1, inplace=True)\n",
        "# df.head(3)"
      ]
    },
    {
      "cell_type": "markdown",
      "id": "f801d036",
      "metadata": {
        "id": "f801d036"
      },
      "source": [
        "#### Country "
      ]
    },
    {
      "cell_type": "code",
      "execution_count": null,
      "id": "7a8fd095",
      "metadata": {
        "id": "7a8fd095",
        "outputId": "6bf462de-1a11-49cf-dcfc-3bdb0451a5d5",
        "colab": {
          "base_uri": "https://localhost:8080/"
        }
      },
      "outputs": [
        {
          "output_type": "stream",
          "name": "stdout",
          "text": [
            "['France', 'Australia', 'Netherlands', 'Germany', 'Norway', 'EIRE', 'Switzerland', 'Spain', 'Poland', 'Portugal', 'Italy', 'Belgium', 'Lithuania', 'Japan', 'Iceland', 'Channel Islands', 'Denmark', 'Cyprus', 'Sweden', 'Austria', 'Israel', 'Finland', 'Bahrain', 'Greece', 'Hong Kong', 'Singapore', 'Lebanon', 'United Arab Emirates', 'Saudi Arabia', 'Czech Republic', 'Canada', 'Unspecified', 'Brazil', 'USA', 'European Community', 'Malta', 'RSA']\n"
          ]
        }
      ],
      "source": [
        "#  we can group country as UK and non-UK \n",
        "col_country = list(df.Country.unique())\n",
        "col_country.remove('United Kingdom')\n",
        "print(col_country)"
      ]
    },
    {
      "cell_type": "code",
      "execution_count": null,
      "id": "2fdd29e7",
      "metadata": {
        "id": "2fdd29e7",
        "outputId": "5c70d9cb-0e6b-4dca-e09c-16c74ef554db",
        "colab": {
          "base_uri": "https://localhost:8080/"
        }
      },
      "outputs": [
        {
          "output_type": "execute_result",
          "data": {
            "text/plain": [
              "United Kingdom    495478\n",
              "Non UK             46431\n",
              "Name: Country, dtype: int64"
            ]
          },
          "metadata": {},
          "execution_count": 30
        }
      ],
      "source": [
        "df.Country= df.Country.replace(to_replace=col_country, value='Non UK')\n",
        "df.Country.value_counts()"
      ]
    },
    {
      "cell_type": "code",
      "execution_count": null,
      "id": "bb8b3ad0",
      "metadata": {
        "id": "bb8b3ad0",
        "outputId": "d640e4d4-7413-4aca-bdf9-c97007f75b83",
        "colab": {
          "base_uri": "https://localhost:8080/",
          "height": 143
        }
      },
      "outputs": [
        {
          "output_type": "execute_result",
          "data": {
            "text/plain": [
              "  InvoiceNo StockCode                         Description  Quantity  \\\n",
              "0  536365.0    85123A  WHITE HANGING HEART T-LIGHT HOLDER       6.0   \n",
              "1       NaN   71053.0                 WHITE METAL LANTERN       6.0   \n",
              "2  536365.0    84406B      CREAM CUPID HEARTS COAT HANGER       8.0   \n",
              "\n",
              "          InvoiceDate  UnitPrice  CustomerID         Country  \n",
              "0 2010-12-01 08:26:00       2.55     17850.0  United Kingdom  \n",
              "1 2010-12-01 08:26:00       3.39     17850.0  United Kingdom  \n",
              "2 2010-12-01 08:26:00       2.75     17850.0  United Kingdom  "
            ],
            "text/html": [
              "\n",
              "  <div id=\"df-a63bfffc-d34b-40f7-a7f0-eb133bc1fabc\">\n",
              "    <div class=\"colab-df-container\">\n",
              "      <div>\n",
              "<style scoped>\n",
              "    .dataframe tbody tr th:only-of-type {\n",
              "        vertical-align: middle;\n",
              "    }\n",
              "\n",
              "    .dataframe tbody tr th {\n",
              "        vertical-align: top;\n",
              "    }\n",
              "\n",
              "    .dataframe thead th {\n",
              "        text-align: right;\n",
              "    }\n",
              "</style>\n",
              "<table border=\"1\" class=\"dataframe\">\n",
              "  <thead>\n",
              "    <tr style=\"text-align: right;\">\n",
              "      <th></th>\n",
              "      <th>InvoiceNo</th>\n",
              "      <th>StockCode</th>\n",
              "      <th>Description</th>\n",
              "      <th>Quantity</th>\n",
              "      <th>InvoiceDate</th>\n",
              "      <th>UnitPrice</th>\n",
              "      <th>CustomerID</th>\n",
              "      <th>Country</th>\n",
              "    </tr>\n",
              "  </thead>\n",
              "  <tbody>\n",
              "    <tr>\n",
              "      <th>0</th>\n",
              "      <td>536365.0</td>\n",
              "      <td>85123A</td>\n",
              "      <td>WHITE HANGING HEART T-LIGHT HOLDER</td>\n",
              "      <td>6.0</td>\n",
              "      <td>2010-12-01 08:26:00</td>\n",
              "      <td>2.55</td>\n",
              "      <td>17850.0</td>\n",
              "      <td>United Kingdom</td>\n",
              "    </tr>\n",
              "    <tr>\n",
              "      <th>1</th>\n",
              "      <td>NaN</td>\n",
              "      <td>71053.0</td>\n",
              "      <td>WHITE METAL LANTERN</td>\n",
              "      <td>6.0</td>\n",
              "      <td>2010-12-01 08:26:00</td>\n",
              "      <td>3.39</td>\n",
              "      <td>17850.0</td>\n",
              "      <td>United Kingdom</td>\n",
              "    </tr>\n",
              "    <tr>\n",
              "      <th>2</th>\n",
              "      <td>536365.0</td>\n",
              "      <td>84406B</td>\n",
              "      <td>CREAM CUPID HEARTS COAT HANGER</td>\n",
              "      <td>8.0</td>\n",
              "      <td>2010-12-01 08:26:00</td>\n",
              "      <td>2.75</td>\n",
              "      <td>17850.0</td>\n",
              "      <td>United Kingdom</td>\n",
              "    </tr>\n",
              "  </tbody>\n",
              "</table>\n",
              "</div>\n",
              "      <button class=\"colab-df-convert\" onclick=\"convertToInteractive('df-a63bfffc-d34b-40f7-a7f0-eb133bc1fabc')\"\n",
              "              title=\"Convert this dataframe to an interactive table.\"\n",
              "              style=\"display:none;\">\n",
              "        \n",
              "  <svg xmlns=\"http://www.w3.org/2000/svg\" height=\"24px\"viewBox=\"0 0 24 24\"\n",
              "       width=\"24px\">\n",
              "    <path d=\"M0 0h24v24H0V0z\" fill=\"none\"/>\n",
              "    <path d=\"M18.56 5.44l.94 2.06.94-2.06 2.06-.94-2.06-.94-.94-2.06-.94 2.06-2.06.94zm-11 1L8.5 8.5l.94-2.06 2.06-.94-2.06-.94L8.5 2.5l-.94 2.06-2.06.94zm10 10l.94 2.06.94-2.06 2.06-.94-2.06-.94-.94-2.06-.94 2.06-2.06.94z\"/><path d=\"M17.41 7.96l-1.37-1.37c-.4-.4-.92-.59-1.43-.59-.52 0-1.04.2-1.43.59L10.3 9.45l-7.72 7.72c-.78.78-.78 2.05 0 2.83L4 21.41c.39.39.9.59 1.41.59.51 0 1.02-.2 1.41-.59l7.78-7.78 2.81-2.81c.8-.78.8-2.07 0-2.86zM5.41 20L4 18.59l7.72-7.72 1.47 1.35L5.41 20z\"/>\n",
              "  </svg>\n",
              "      </button>\n",
              "      \n",
              "  <style>\n",
              "    .colab-df-container {\n",
              "      display:flex;\n",
              "      flex-wrap:wrap;\n",
              "      gap: 12px;\n",
              "    }\n",
              "\n",
              "    .colab-df-convert {\n",
              "      background-color: #E8F0FE;\n",
              "      border: none;\n",
              "      border-radius: 50%;\n",
              "      cursor: pointer;\n",
              "      display: none;\n",
              "      fill: #1967D2;\n",
              "      height: 32px;\n",
              "      padding: 0 0 0 0;\n",
              "      width: 32px;\n",
              "    }\n",
              "\n",
              "    .colab-df-convert:hover {\n",
              "      background-color: #E2EBFA;\n",
              "      box-shadow: 0px 1px 2px rgba(60, 64, 67, 0.3), 0px 1px 3px 1px rgba(60, 64, 67, 0.15);\n",
              "      fill: #174EA6;\n",
              "    }\n",
              "\n",
              "    [theme=dark] .colab-df-convert {\n",
              "      background-color: #3B4455;\n",
              "      fill: #D2E3FC;\n",
              "    }\n",
              "\n",
              "    [theme=dark] .colab-df-convert:hover {\n",
              "      background-color: #434B5C;\n",
              "      box-shadow: 0px 1px 3px 1px rgba(0, 0, 0, 0.15);\n",
              "      filter: drop-shadow(0px 1px 2px rgba(0, 0, 0, 0.3));\n",
              "      fill: #FFFFFF;\n",
              "    }\n",
              "  </style>\n",
              "\n",
              "      <script>\n",
              "        const buttonEl =\n",
              "          document.querySelector('#df-a63bfffc-d34b-40f7-a7f0-eb133bc1fabc button.colab-df-convert');\n",
              "        buttonEl.style.display =\n",
              "          google.colab.kernel.accessAllowed ? 'block' : 'none';\n",
              "\n",
              "        async function convertToInteractive(key) {\n",
              "          const element = document.querySelector('#df-a63bfffc-d34b-40f7-a7f0-eb133bc1fabc');\n",
              "          const dataTable =\n",
              "            await google.colab.kernel.invokeFunction('convertToInteractive',\n",
              "                                                     [key], {});\n",
              "          if (!dataTable) return;\n",
              "\n",
              "          const docLinkHtml = 'Like what you see? Visit the ' +\n",
              "            '<a target=\"_blank\" href=https://colab.research.google.com/notebooks/data_table.ipynb>data table notebook</a>'\n",
              "            + ' to learn more about interactive tables.';\n",
              "          element.innerHTML = '';\n",
              "          dataTable['output_type'] = 'display_data';\n",
              "          await google.colab.output.renderOutput(dataTable, element);\n",
              "          const docLink = document.createElement('div');\n",
              "          docLink.innerHTML = docLinkHtml;\n",
              "          element.appendChild(docLink);\n",
              "        }\n",
              "      </script>\n",
              "    </div>\n",
              "  </div>\n",
              "  "
            ]
          },
          "metadata": {},
          "execution_count": 31
        }
      ],
      "source": [
        "df.head(3)"
      ]
    },
    {
      "cell_type": "markdown",
      "id": "1b7a3ffc",
      "metadata": {
        "id": "1b7a3ffc"
      },
      "source": [
        "##### InvoiceNo"
      ]
    },
    {
      "cell_type": "code",
      "execution_count": null,
      "id": "d9403c2f",
      "metadata": {
        "id": "d9403c2f",
        "outputId": "d8005ccb-897b-4325-d1b7-156a94e908e3",
        "colab": {
          "base_uri": "https://localhost:8080/",
          "height": 187
        }
      },
      "outputs": [
        {
          "output_type": "execute_result",
          "data": {
            "text/plain": [
              "  InvoiceNo StockCode                         Description  Quantity  \\\n",
              "0  536365.0    85123A  WHITE HANGING HEART T-LIGHT HOLDER       6.0   \n",
              "1       NaN   71053.0                 WHITE METAL LANTERN       6.0   \n",
              "2  536365.0    84406B      CREAM CUPID HEARTS COAT HANGER       8.0   \n",
              "\n",
              "          InvoiceDate  UnitPrice  CustomerID         Country Order Status  \n",
              "0 2010-12-01 08:26:00       2.55     17850.0  United Kingdom    Cancelled  \n",
              "1 2010-12-01 08:26:00       3.39     17850.0  United Kingdom    Cancelled  \n",
              "2 2010-12-01 08:26:00       2.75     17850.0  United Kingdom    Cancelled  "
            ],
            "text/html": [
              "\n",
              "  <div id=\"df-30ab1ec5-e944-4f9d-83f1-9ef24d3a2506\">\n",
              "    <div class=\"colab-df-container\">\n",
              "      <div>\n",
              "<style scoped>\n",
              "    .dataframe tbody tr th:only-of-type {\n",
              "        vertical-align: middle;\n",
              "    }\n",
              "\n",
              "    .dataframe tbody tr th {\n",
              "        vertical-align: top;\n",
              "    }\n",
              "\n",
              "    .dataframe thead th {\n",
              "        text-align: right;\n",
              "    }\n",
              "</style>\n",
              "<table border=\"1\" class=\"dataframe\">\n",
              "  <thead>\n",
              "    <tr style=\"text-align: right;\">\n",
              "      <th></th>\n",
              "      <th>InvoiceNo</th>\n",
              "      <th>StockCode</th>\n",
              "      <th>Description</th>\n",
              "      <th>Quantity</th>\n",
              "      <th>InvoiceDate</th>\n",
              "      <th>UnitPrice</th>\n",
              "      <th>CustomerID</th>\n",
              "      <th>Country</th>\n",
              "      <th>Order Status</th>\n",
              "    </tr>\n",
              "  </thead>\n",
              "  <tbody>\n",
              "    <tr>\n",
              "      <th>0</th>\n",
              "      <td>536365.0</td>\n",
              "      <td>85123A</td>\n",
              "      <td>WHITE HANGING HEART T-LIGHT HOLDER</td>\n",
              "      <td>6.0</td>\n",
              "      <td>2010-12-01 08:26:00</td>\n",
              "      <td>2.55</td>\n",
              "      <td>17850.0</td>\n",
              "      <td>United Kingdom</td>\n",
              "      <td>Cancelled</td>\n",
              "    </tr>\n",
              "    <tr>\n",
              "      <th>1</th>\n",
              "      <td>NaN</td>\n",
              "      <td>71053.0</td>\n",
              "      <td>WHITE METAL LANTERN</td>\n",
              "      <td>6.0</td>\n",
              "      <td>2010-12-01 08:26:00</td>\n",
              "      <td>3.39</td>\n",
              "      <td>17850.0</td>\n",
              "      <td>United Kingdom</td>\n",
              "      <td>Cancelled</td>\n",
              "    </tr>\n",
              "    <tr>\n",
              "      <th>2</th>\n",
              "      <td>536365.0</td>\n",
              "      <td>84406B</td>\n",
              "      <td>CREAM CUPID HEARTS COAT HANGER</td>\n",
              "      <td>8.0</td>\n",
              "      <td>2010-12-01 08:26:00</td>\n",
              "      <td>2.75</td>\n",
              "      <td>17850.0</td>\n",
              "      <td>United Kingdom</td>\n",
              "      <td>Cancelled</td>\n",
              "    </tr>\n",
              "  </tbody>\n",
              "</table>\n",
              "</div>\n",
              "      <button class=\"colab-df-convert\" onclick=\"convertToInteractive('df-30ab1ec5-e944-4f9d-83f1-9ef24d3a2506')\"\n",
              "              title=\"Convert this dataframe to an interactive table.\"\n",
              "              style=\"display:none;\">\n",
              "        \n",
              "  <svg xmlns=\"http://www.w3.org/2000/svg\" height=\"24px\"viewBox=\"0 0 24 24\"\n",
              "       width=\"24px\">\n",
              "    <path d=\"M0 0h24v24H0V0z\" fill=\"none\"/>\n",
              "    <path d=\"M18.56 5.44l.94 2.06.94-2.06 2.06-.94-2.06-.94-.94-2.06-.94 2.06-2.06.94zm-11 1L8.5 8.5l.94-2.06 2.06-.94-2.06-.94L8.5 2.5l-.94 2.06-2.06.94zm10 10l.94 2.06.94-2.06 2.06-.94-2.06-.94-.94-2.06-.94 2.06-2.06.94z\"/><path d=\"M17.41 7.96l-1.37-1.37c-.4-.4-.92-.59-1.43-.59-.52 0-1.04.2-1.43.59L10.3 9.45l-7.72 7.72c-.78.78-.78 2.05 0 2.83L4 21.41c.39.39.9.59 1.41.59.51 0 1.02-.2 1.41-.59l7.78-7.78 2.81-2.81c.8-.78.8-2.07 0-2.86zM5.41 20L4 18.59l7.72-7.72 1.47 1.35L5.41 20z\"/>\n",
              "  </svg>\n",
              "      </button>\n",
              "      \n",
              "  <style>\n",
              "    .colab-df-container {\n",
              "      display:flex;\n",
              "      flex-wrap:wrap;\n",
              "      gap: 12px;\n",
              "    }\n",
              "\n",
              "    .colab-df-convert {\n",
              "      background-color: #E8F0FE;\n",
              "      border: none;\n",
              "      border-radius: 50%;\n",
              "      cursor: pointer;\n",
              "      display: none;\n",
              "      fill: #1967D2;\n",
              "      height: 32px;\n",
              "      padding: 0 0 0 0;\n",
              "      width: 32px;\n",
              "    }\n",
              "\n",
              "    .colab-df-convert:hover {\n",
              "      background-color: #E2EBFA;\n",
              "      box-shadow: 0px 1px 2px rgba(60, 64, 67, 0.3), 0px 1px 3px 1px rgba(60, 64, 67, 0.15);\n",
              "      fill: #174EA6;\n",
              "    }\n",
              "\n",
              "    [theme=dark] .colab-df-convert {\n",
              "      background-color: #3B4455;\n",
              "      fill: #D2E3FC;\n",
              "    }\n",
              "\n",
              "    [theme=dark] .colab-df-convert:hover {\n",
              "      background-color: #434B5C;\n",
              "      box-shadow: 0px 1px 3px 1px rgba(0, 0, 0, 0.15);\n",
              "      filter: drop-shadow(0px 1px 2px rgba(0, 0, 0, 0.3));\n",
              "      fill: #FFFFFF;\n",
              "    }\n",
              "  </style>\n",
              "\n",
              "      <script>\n",
              "        const buttonEl =\n",
              "          document.querySelector('#df-30ab1ec5-e944-4f9d-83f1-9ef24d3a2506 button.colab-df-convert');\n",
              "        buttonEl.style.display =\n",
              "          google.colab.kernel.accessAllowed ? 'block' : 'none';\n",
              "\n",
              "        async function convertToInteractive(key) {\n",
              "          const element = document.querySelector('#df-30ab1ec5-e944-4f9d-83f1-9ef24d3a2506');\n",
              "          const dataTable =\n",
              "            await google.colab.kernel.invokeFunction('convertToInteractive',\n",
              "                                                     [key], {});\n",
              "          if (!dataTable) return;\n",
              "\n",
              "          const docLinkHtml = 'Like what you see? Visit the ' +\n",
              "            '<a target=\"_blank\" href=https://colab.research.google.com/notebooks/data_table.ipynb>data table notebook</a>'\n",
              "            + ' to learn more about interactive tables.';\n",
              "          element.innerHTML = '';\n",
              "          dataTable['output_type'] = 'display_data';\n",
              "          await google.colab.output.renderOutput(dataTable, element);\n",
              "          const docLink = document.createElement('div');\n",
              "          docLink.innerHTML = docLinkHtml;\n",
              "          element.appendChild(docLink);\n",
              "        }\n",
              "      </script>\n",
              "    </div>\n",
              "  </div>\n",
              "  "
            ]
          },
          "metadata": {},
          "execution_count": 32
        }
      ],
      "source": [
        "lst_invoice= list(df.InvoiceNo.values)  # took all value in a list\n",
        "\n",
        "c_invoice = []\n",
        "for i in lst_invoice:\n",
        "    if type(i)== int:                   # checking if it is int or not, since from problem statement it is clearly stated.\n",
        "        c_invoice.append('Accepted')\n",
        "    else:\n",
        "        c_invoice.append('Cancelled')\n",
        "        \n",
        "df['Order Status'] =c_invoice              # appending a new column into dataset from list of c_invoice\n",
        "df.head(3)"
      ]
    },
    {
      "cell_type": "code",
      "execution_count": null,
      "id": "3db0d738",
      "metadata": {
        "id": "3db0d738",
        "outputId": "ca200821-513f-47a9-e951-21983d3369d3",
        "colab": {
          "base_uri": "https://localhost:8080/"
        }
      },
      "outputs": [
        {
          "output_type": "execute_result",
          "data": {
            "text/plain": [
              "Cancelled    541909\n",
              "Name: Order Status, dtype: int64"
            ]
          },
          "metadata": {},
          "execution_count": 33
        }
      ],
      "source": [
        "df['Order Status'].value_counts()"
      ]
    },
    {
      "cell_type": "markdown",
      "id": "0342b46f",
      "metadata": {
        "id": "0342b46f"
      },
      "source": [
        "##### Quantity"
      ]
    },
    {
      "cell_type": "code",
      "execution_count": null,
      "id": "2f608048",
      "metadata": {
        "id": "2f608048",
        "outputId": "320af60f-e10d-4a25-c964-ab96fa440260",
        "colab": {
          "base_uri": "https://localhost:8080/"
        }
      },
      "outputs": [
        {
          "output_type": "execute_result",
          "data": {
            "text/plain": [
              "count    541909.000000\n",
              "mean          9.552250\n",
              "std         218.081158\n",
              "min      -80995.000000\n",
              "25%           1.000000\n",
              "50%           3.000000\n",
              "75%          10.000000\n",
              "max       80995.000000\n",
              "Name: Quantity, dtype: float64"
            ]
          },
          "metadata": {},
          "execution_count": 34
        }
      ],
      "source": [
        "df.Quantity.describe()\n",
        "# showing -ve quantity, means these are returned ones. -> let's keep it as it is"
      ]
    },
    {
      "cell_type": "code",
      "execution_count": null,
      "id": "a6d62ae7",
      "metadata": {
        "id": "a6d62ae7",
        "outputId": "eaa75ca5-d28a-49d5-c35b-8f326e475f6a",
        "colab": {
          "base_uri": "https://localhost:8080/",
          "height": 351
        }
      },
      "outputs": [
        {
          "output_type": "stream",
          "name": "stderr",
          "text": [
            "/usr/local/lib/python3.7/dist-packages/seaborn/_decorators.py:43: FutureWarning: Pass the following variable as a keyword arg: x. From version 0.12, the only valid positional argument will be `data`, and passing other arguments without an explicit keyword will result in an error or misinterpretation.\n",
            "  FutureWarning\n"
          ]
        },
        {
          "output_type": "execute_result",
          "data": {
            "text/plain": [
              "<matplotlib.axes._subplots.AxesSubplot at 0x7fcf967b4d90>"
            ]
          },
          "metadata": {},
          "execution_count": 35
        },
        {
          "output_type": "display_data",
          "data": {
            "text/plain": [
              "<Figure size 432x288 with 1 Axes>"
            ],
            "image/png": "[encoded data removed]"
          },
          "metadata": {
            "needs_background": "light"
          }
        }
      ],
      "source": [
        "sns.boxplot(df.Quantity)   # there are 6 outliers, 3 on each side of 0."
      ]
    },
    {
      "cell_type": "markdown",
      "id": "553cbc9d",
      "metadata": {
        "id": "553cbc9d"
      },
      "source": [
        "##### UnitPrice"
      ]
    },
    {
      "cell_type": "code",
      "execution_count": null,
      "id": "6862a201",
      "metadata": {
        "id": "6862a201",
        "outputId": "5e9967e4-e3e2-4d8f-ee67-13add7774e72",
        "colab": {
          "base_uri": "https://localhost:8080/"
        }
      },
      "outputs": [
        {
          "output_type": "execute_result",
          "data": {
            "text/plain": [
              "count    541909.000000\n",
              "mean          4.611114\n",
              "std          96.759853\n",
              "min      -11062.060000\n",
              "25%           1.250000\n",
              "50%           2.080000\n",
              "75%           4.130000\n",
              "max       38970.000000\n",
              "Name: UnitPrice, dtype: float64"
            ]
          },
          "metadata": {},
          "execution_count": 36
        }
      ],
      "source": [
        "df.UnitPrice.describe()"
      ]
    },
    {
      "cell_type": "code",
      "execution_count": null,
      "id": "a29ac437",
      "metadata": {
        "id": "a29ac437",
        "outputId": "598aa36c-178e-458f-bd07-990e1aee7c24",
        "colab": {
          "base_uri": "https://localhost:8080/",
          "height": 351
        }
      },
      "outputs": [
        {
          "output_type": "stream",
          "name": "stderr",
          "text": [
            "/usr/local/lib/python3.7/dist-packages/seaborn/_decorators.py:43: FutureWarning: Pass the following variable as a keyword arg: x. From version 0.12, the only valid positional argument will be `data`, and passing other arguments without an explicit keyword will result in an error or misinterpretation.\n",
            "  FutureWarning\n"
          ]
        },
        {
          "output_type": "execute_result",
          "data": {
            "text/plain": [
              "<matplotlib.axes._subplots.AxesSubplot at 0x7fcf78636d50>"
            ]
          },
          "metadata": {},
          "execution_count": 37
        },
        {
          "output_type": "display_data",
          "data": {
            "text/plain": [
              "<Figure size 432x288 with 1 Axes>"
            ],
            "image/png": "[encoded data removed]"
          },
          "metadata": {
            "needs_background": "light"
          }
        }
      ],
      "source": [
        "sns.boxplot(df.UnitPrice)   # seems very less values are -ve values"
      ]
    },
    {
      "cell_type": "markdown",
      "id": "bd47fa29",
      "metadata": {
        "id": "bd47fa29"
      },
      "source": [
        "- Not treating Outliers here\n",
        "- these outliers will be make a seperate clusters --> so leave it is let's see the effect on final output."
      ]
    },
    {
      "cell_type": "markdown",
      "id": "5b46ca4f",
      "metadata": {
        "id": "5b46ca4f"
      },
      "source": [
        "##### InvoiceDate"
      ]
    },
    {
      "cell_type": "code",
      "execution_count": null,
      "id": "14c6cc65",
      "metadata": {
        "id": "14c6cc65",
        "outputId": "d092bff4-d756-4fa2-8722-708c1f38141b",
        "colab": {
          "base_uri": "https://localhost:8080/",
          "height": 257
        }
      },
      "outputs": [
        {
          "output_type": "execute_result",
          "data": {
            "text/plain": [
              "  InvoiceNo StockCode                         Description  Quantity  \\\n",
              "0  536365.0    85123A  WHITE HANGING HEART T-LIGHT HOLDER       6.0   \n",
              "1       NaN   71053.0                 WHITE METAL LANTERN       6.0   \n",
              "2  536365.0    84406B      CREAM CUPID HEARTS COAT HANGER       8.0   \n",
              "\n",
              "          InvoiceDate  UnitPrice  CustomerID         Country Order Status  \\\n",
              "0 2010-12-01 08:26:00       2.55     17850.0  United Kingdom    Cancelled   \n",
              "1 2010-12-01 08:26:00       3.39     17850.0  United Kingdom    Cancelled   \n",
              "2 2010-12-01 08:26:00       2.75     17850.0  United Kingdom    Cancelled   \n",
              "\n",
              "     Weekday  \n",
              "0  Wednesday  \n",
              "1  Wednesday  \n",
              "2  Wednesday  "
            ],
            "text/html": [
              "\n",
              "  <div id=\"df-22c750d5-acea-4679-8caa-84402bbbd10e\">\n",
              "    <div class=\"colab-df-container\">\n",
              "      <div>\n",
              "<style scoped>\n",
              "    .dataframe tbody tr th:only-of-type {\n",
              "        vertical-align: middle;\n",
              "    }\n",
              "\n",
              "    .dataframe tbody tr th {\n",
              "        vertical-align: top;\n",
              "    }\n",
              "\n",
              "    .dataframe thead th {\n",
              "        text-align: right;\n",
              "    }\n",
              "</style>\n",
              "<table border=\"1\" class=\"dataframe\">\n",
              "  <thead>\n",
              "    <tr style=\"text-align: right;\">\n",
              "      <th></th>\n",
              "      <th>InvoiceNo</th>\n",
              "      <th>StockCode</th>\n",
              "      <th>Description</th>\n",
              "      <th>Quantity</th>\n",
              "      <th>InvoiceDate</th>\n",
              "      <th>UnitPrice</th>\n",
              "      <th>CustomerID</th>\n",
              "      <th>Country</th>\n",
              "      <th>Order Status</th>\n",
              "      <th>Weekday</th>\n",
              "    </tr>\n",
              "  </thead>\n",
              "  <tbody>\n",
              "    <tr>\n",
              "      <th>0</th>\n",
              "      <td>536365.0</td>\n",
              "      <td>85123A</td>\n",
              "      <td>WHITE HANGING HEART T-LIGHT HOLDER</td>\n",
              "      <td>6.0</td>\n",
              "      <td>2010-12-01 08:26:00</td>\n",
              "      <td>2.55</td>\n",
              "      <td>17850.0</td>\n",
              "      <td>United Kingdom</td>\n",
              "      <td>Cancelled</td>\n",
              "      <td>Wednesday</td>\n",
              "    </tr>\n",
              "    <tr>\n",
              "      <th>1</th>\n",
              "      <td>NaN</td>\n",
              "      <td>71053.0</td>\n",
              "      <td>WHITE METAL LANTERN</td>\n",
              "      <td>6.0</td>\n",
              "      <td>2010-12-01 08:26:00</td>\n",
              "      <td>3.39</td>\n",
              "      <td>17850.0</td>\n",
              "      <td>United Kingdom</td>\n",
              "      <td>Cancelled</td>\n",
              "      <td>Wednesday</td>\n",
              "    </tr>\n",
              "    <tr>\n",
              "      <th>2</th>\n",
              "      <td>536365.0</td>\n",
              "      <td>84406B</td>\n",
              "      <td>CREAM CUPID HEARTS COAT HANGER</td>\n",
              "      <td>8.0</td>\n",
              "      <td>2010-12-01 08:26:00</td>\n",
              "      <td>2.75</td>\n",
              "      <td>17850.0</td>\n",
              "      <td>United Kingdom</td>\n",
              "      <td>Cancelled</td>\n",
              "      <td>Wednesday</td>\n",
              "    </tr>\n",
              "  </tbody>\n",
              "</table>\n",
              "</div>\n",
              "      <button class=\"colab-df-convert\" onclick=\"convertToInteractive('df-22c750d5-acea-4679-8caa-84402bbbd10e')\"\n",
              "              title=\"Convert this dataframe to an interactive table.\"\n",
              "              style=\"display:none;\">\n",
              "        \n",
              "  <svg xmlns=\"http://www.w3.org/2000/svg\" height=\"24px\"viewBox=\"0 0 24 24\"\n",
              "       width=\"24px\">\n",
              "    <path d=\"M0 0h24v24H0V0z\" fill=\"none\"/>\n",
              "    <path d=\"M18.56 5.44l.94 2.06.94-2.06 2.06-.94-2.06-.94-.94-2.06-.94 2.06-2.06.94zm-11 1L8.5 8.5l.94-2.06 2.06-.94-2.06-.94L8.5 2.5l-.94 2.06-2.06.94zm10 10l.94 2.06.94-2.06 2.06-.94-2.06-.94-.94-2.06-.94 2.06-2.06.94z\"/><path d=\"M17.41 7.96l-1.37-1.37c-.4-.4-.92-.59-1.43-.59-.52 0-1.04.2-1.43.59L10.3 9.45l-7.72 7.72c-.78.78-.78 2.05 0 2.83L4 21.41c.39.39.9.59 1.41.59.51 0 1.02-.2 1.41-.59l7.78-7.78 2.81-2.81c.8-.78.8-2.07 0-2.86zM5.41 20L4 18.59l7.72-7.72 1.47 1.35L5.41 20z\"/>\n",
              "  </svg>\n",
              "      </button>\n",
              "      \n",
              "  <style>\n",
              "    .colab-df-container {\n",
              "      display:flex;\n",
              "      flex-wrap:wrap;\n",
              "      gap: 12px;\n",
              "    }\n",
              "\n",
              "    .colab-df-convert {\n",
              "      background-color: #E8F0FE;\n",
              "      border: none;\n",
              "      border-radius: 50%;\n",
              "      cursor: pointer;\n",
              "      display: none;\n",
              "      fill: #1967D2;\n",
              "      height: 32px;\n",
              "      padding: 0 0 0 0;\n",
              "      width: 32px;\n",
              "    }\n",
              "\n",
              "    .colab-df-convert:hover {\n",
              "      background-color: #E2EBFA;\n",
              "      box-shadow: 0px 1px 2px rgba(60, 64, 67, 0.3), 0px 1px 3px 1px rgba(60, 64, 67, 0.15);\n",
              "      fill: #174EA6;\n",
              "    }\n",
              "\n",
              "    [theme=dark] .colab-df-convert {\n",
              "      background-color: #3B4455;\n",
              "      fill: #D2E3FC;\n",
              "    }\n",
              "\n",
              "    [theme=dark] .colab-df-convert:hover {\n",
              "      background-color: #434B5C;\n",
              "      box-shadow: 0px 1px 3px 1px rgba(0, 0, 0, 0.15);\n",
              "      filter: drop-shadow(0px 1px 2px rgba(0, 0, 0, 0.3));\n",
              "      fill: #FFFFFF;\n",
              "    }\n",
              "  </style>\n",
              "\n",
              "      <script>\n",
              "        const buttonEl =\n",
              "          document.querySelector('#df-22c750d5-acea-4679-8caa-84402bbbd10e button.colab-df-convert');\n",
              "        buttonEl.style.display =\n",
              "          google.colab.kernel.accessAllowed ? 'block' : 'none';\n",
              "\n",
              "        async function convertToInteractive(key) {\n",
              "          const element = document.querySelector('#df-22c750d5-acea-4679-8caa-84402bbbd10e');\n",
              "          const dataTable =\n",
              "            await google.colab.kernel.invokeFunction('convertToInteractive',\n",
              "                                                     [key], {});\n",
              "          if (!dataTable) return;\n",
              "\n",
              "          const docLinkHtml = 'Like what you see? Visit the ' +\n",
              "            '<a target=\"_blank\" href=https://colab.research.google.com/notebooks/data_table.ipynb>data table notebook</a>'\n",
              "            + ' to learn more about interactive tables.';\n",
              "          element.innerHTML = '';\n",
              "          dataTable['output_type'] = 'display_data';\n",
              "          await google.colab.output.renderOutput(dataTable, element);\n",
              "          const docLink = document.createElement('div');\n",
              "          docLink.innerHTML = docLinkHtml;\n",
              "          element.appendChild(docLink);\n",
              "        }\n",
              "      </script>\n",
              "    </div>\n",
              "  </div>\n",
              "  "
            ]
          },
          "metadata": {},
          "execution_count": 38
        }
      ],
      "source": [
        "df['Weekday']= df.InvoiceDate.astype('datetime64').dt.day_name()\n",
        "df.head(3)"
      ]
    },
    {
      "cell_type": "code",
      "execution_count": null,
      "id": "6c5722b3",
      "metadata": {
        "id": "6c5722b3",
        "outputId": "ad42b0a5-a586-4334-d498-d28ce775fd67",
        "colab": {
          "base_uri": "https://localhost:8080/"
        }
      },
      "outputs": [
        {
          "output_type": "execute_result",
          "data": {
            "text/plain": [
              "Thursday     103857\n",
              "Tuesday      101808\n",
              "Monday        95111\n",
              "Wednesday     94565\n",
              "Friday        82193\n",
              "Sunday        64375\n",
              "Name: Weekday, dtype: int64"
            ]
          },
          "metadata": {},
          "execution_count": 39
        }
      ],
      "source": [
        "df.Weekday.value_counts()   # we don't have saturday <-- means no order placed at saturday"
      ]
    },
    {
      "cell_type": "markdown",
      "id": "c261bffe",
      "metadata": {
        "id": "c261bffe"
      },
      "source": [
        "##### Year week no"
      ]
    },
    {
      "cell_type": "code",
      "execution_count": null,
      "id": "0dad28b0",
      "metadata": {
        "id": "0dad28b0",
        "outputId": "eb98b089-303f-4672-c7b6-8f0f89b1fa2f",
        "colab": {
          "base_uri": "https://localhost:8080/",
          "height": 311
        }
      },
      "outputs": [
        {
          "output_type": "stream",
          "name": "stderr",
          "text": [
            "/usr/local/lib/python3.7/dist-packages/ipykernel_launcher.py:1: FutureWarning: Series.dt.weekofyear and Series.dt.week have been deprecated.  Please use Series.dt.isocalendar().week instead.\n",
            "  \"\"\"Entry point for launching an IPython kernel.\n"
          ]
        },
        {
          "output_type": "execute_result",
          "data": {
            "text/plain": [
              "  InvoiceNo StockCode                         Description  Quantity  \\\n",
              "0  536365.0    85123A  WHITE HANGING HEART T-LIGHT HOLDER       6.0   \n",
              "1       NaN   71053.0                 WHITE METAL LANTERN       6.0   \n",
              "2  536365.0    84406B      CREAM CUPID HEARTS COAT HANGER       8.0   \n",
              "\n",
              "          InvoiceDate  UnitPrice  CustomerID         Country Order Status  \\\n",
              "0 2010-12-01 08:26:00       2.55     17850.0  United Kingdom    Cancelled   \n",
              "1 2010-12-01 08:26:00       3.39     17850.0  United Kingdom    Cancelled   \n",
              "2 2010-12-01 08:26:00       2.75     17850.0  United Kingdom    Cancelled   \n",
              "\n",
              "     Weekday  Week no  \n",
              "0  Wednesday       48  \n",
              "1  Wednesday       48  \n",
              "2  Wednesday       48  "
            ],
            "text/html": [
              "\n",
              "  <div id=\"df-aadc9d6e-7086-44af-abcb-1a19bedce359\">\n",
              "    <div class=\"colab-df-container\">\n",
              "      <div>\n",
              "<style scoped>\n",
              "    .dataframe tbody tr th:only-of-type {\n",
              "        vertical-align: middle;\n",
              "    }\n",
              "\n",
              "    .dataframe tbody tr th {\n",
              "        vertical-align: top;\n",
              "    }\n",
              "\n",
              "    .dataframe thead th {\n",
              "        text-align: right;\n",
              "    }\n",
              "</style>\n",
              "<table border=\"1\" class=\"dataframe\">\n",
              "  <thead>\n",
              "    <tr style=\"text-align: right;\">\n",
              "      <th></th>\n",
              "      <th>InvoiceNo</th>\n",
              "      <th>StockCode</th>\n",
              "      <th>Description</th>\n",
              "      <th>Quantity</th>\n",
              "      <th>InvoiceDate</th>\n",
              "      <th>UnitPrice</th>\n",
              "      <th>CustomerID</th>\n",
              "      <th>Country</th>\n",
              "      <th>Order Status</th>\n",
              "      <th>Weekday</th>\n",
              "      <th>Week no</th>\n",
              "    </tr>\n",
              "  </thead>\n",
              "  <tbody>\n",
              "    <tr>\n",
              "      <th>0</th>\n",
              "      <td>536365.0</td>\n",
              "      <td>85123A</td>\n",
              "      <td>WHITE HANGING HEART T-LIGHT HOLDER</td>\n",
              "      <td>6.0</td>\n",
              "      <td>2010-12-01 08:26:00</td>\n",
              "      <td>2.55</td>\n",
              "      <td>17850.0</td>\n",
              "      <td>United Kingdom</td>\n",
              "      <td>Cancelled</td>\n",
              "      <td>Wednesday</td>\n",
              "      <td>48</td>\n",
              "    </tr>\n",
              "    <tr>\n",
              "      <th>1</th>\n",
              "      <td>NaN</td>\n",
              "      <td>71053.0</td>\n",
              "      <td>WHITE METAL LANTERN</td>\n",
              "      <td>6.0</td>\n",
              "      <td>2010-12-01 08:26:00</td>\n",
              "      <td>3.39</td>\n",
              "      <td>17850.0</td>\n",
              "      <td>United Kingdom</td>\n",
              "      <td>Cancelled</td>\n",
              "      <td>Wednesday</td>\n",
              "      <td>48</td>\n",
              "    </tr>\n",
              "    <tr>\n",
              "      <th>2</th>\n",
              "      <td>536365.0</td>\n",
              "      <td>84406B</td>\n",
              "      <td>CREAM CUPID HEARTS COAT HANGER</td>\n",
              "      <td>8.0</td>\n",
              "      <td>2010-12-01 08:26:00</td>\n",
              "      <td>2.75</td>\n",
              "      <td>17850.0</td>\n",
              "      <td>United Kingdom</td>\n",
              "      <td>Cancelled</td>\n",
              "      <td>Wednesday</td>\n",
              "      <td>48</td>\n",
              "    </tr>\n",
              "  </tbody>\n",
              "</table>\n",
              "</div>\n",
              "      <button class=\"colab-df-convert\" onclick=\"convertToInteractive('df-aadc9d6e-7086-44af-abcb-1a19bedce359')\"\n",
              "              title=\"Convert this dataframe to an interactive table.\"\n",
              "              style=\"display:none;\">\n",
              "        \n",
              "  <svg xmlns=\"http://www.w3.org/2000/svg\" height=\"24px\"viewBox=\"0 0 24 24\"\n",
              "       width=\"24px\">\n",
              "    <path d=\"M0 0h24v24H0V0z\" fill=\"none\"/>\n",
              "    <path d=\"M18.56 5.44l.94 2.06.94-2.06 2.06-.94-2.06-.94-.94-2.06-.94 2.06-2.06.94zm-11 1L8.5 8.5l.94-2.06 2.06-.94-2.06-.94L8.5 2.5l-.94 2.06-2.06.94zm10 10l.94 2.06.94-2.06 2.06-.94-2.06-.94-.94-2.06-.94 2.06-2.06.94z\"/><path d=\"M17.41 7.96l-1.37-1.37c-.4-.4-.92-.59-1.43-.59-.52 0-1.04.2-1.43.59L10.3 9.45l-7.72 7.72c-.78.78-.78 2.05 0 2.83L4 21.41c.39.39.9.59 1.41.59.51 0 1.02-.2 1.41-.59l7.78-7.78 2.81-2.81c.8-.78.8-2.07 0-2.86zM5.41 20L4 18.59l7.72-7.72 1.47 1.35L5.41 20z\"/>\n",
              "  </svg>\n",
              "      </button>\n",
              "      \n",
              "  <style>\n",
              "    .colab-df-container {\n",
              "      display:flex;\n",
              "      flex-wrap:wrap;\n",
              "      gap: 12px;\n",
              "    }\n",
              "\n",
              "    .colab-df-convert {\n",
              "      background-color: #E8F0FE;\n",
              "      border: none;\n",
              "      border-radius: 50%;\n",
              "      cursor: pointer;\n",
              "      display: none;\n",
              "      fill: #1967D2;\n",
              "      height: 32px;\n",
              "      padding: 0 0 0 0;\n",
              "      width: 32px;\n",
              "    }\n",
              "\n",
              "    .colab-df-convert:hover {\n",
              "      background-color: #E2EBFA;\n",
              "      box-shadow: 0px 1px 2px rgba(60, 64, 67, 0.3), 0px 1px 3px 1px rgba(60, 64, 67, 0.15);\n",
              "      fill: #174EA6;\n",
              "    }\n",
              "\n",
              "    [theme=dark] .colab-df-convert {\n",
              "      background-color: #3B4455;\n",
              "      fill: #D2E3FC;\n",
              "    }\n",
              "\n",
              "    [theme=dark] .colab-df-convert:hover {\n",
              "      background-color: #434B5C;\n",
              "      box-shadow: 0px 1px 3px 1px rgba(0, 0, 0, 0.15);\n",
              "      filter: drop-shadow(0px 1px 2px rgba(0, 0, 0, 0.3));\n",
              "      fill: #FFFFFF;\n",
              "    }\n",
              "  </style>\n",
              "\n",
              "      <script>\n",
              "        const buttonEl =\n",
              "          document.querySelector('#df-aadc9d6e-7086-44af-abcb-1a19bedce359 button.colab-df-convert');\n",
              "        buttonEl.style.display =\n",
              "          google.colab.kernel.accessAllowed ? 'block' : 'none';\n",
              "\n",
              "        async function convertToInteractive(key) {\n",
              "          const element = document.querySelector('#df-aadc9d6e-7086-44af-abcb-1a19bedce359');\n",
              "          const dataTable =\n",
              "            await google.colab.kernel.invokeFunction('convertToInteractive',\n",
              "                                                     [key], {});\n",
              "          if (!dataTable) return;\n",
              "\n",
              "          const docLinkHtml = 'Like what you see? Visit the ' +\n",
              "            '<a target=\"_blank\" href=https://colab.research.google.com/notebooks/data_table.ipynb>data table notebook</a>'\n",
              "            + ' to learn more about interactive tables.';\n",
              "          element.innerHTML = '';\n",
              "          dataTable['output_type'] = 'display_data';\n",
              "          await google.colab.output.renderOutput(dataTable, element);\n",
              "          const docLink = document.createElement('div');\n",
              "          docLink.innerHTML = docLinkHtml;\n",
              "          element.appendChild(docLink);\n",
              "        }\n",
              "      </script>\n",
              "    </div>\n",
              "  </div>\n",
              "  "
            ]
          },
          "metadata": {},
          "execution_count": 40
        }
      ],
      "source": [
        "df['Week no']= df.InvoiceDate.astype('datetime64').dt.week\n",
        "df.head(3)"
      ]
    },
    {
      "cell_type": "code",
      "execution_count": null,
      "id": "a4717983",
      "metadata": {
        "id": "a4717983",
        "outputId": "1f138d56-190b-4ee3-e3ab-8d239c85c7b1",
        "colab": {
          "base_uri": "https://localhost:8080/"
        }
      },
      "outputs": [
        {
          "output_type": "execute_result",
          "data": {
            "text/plain": [
              "51"
            ]
          },
          "metadata": {},
          "execution_count": 41
        }
      ],
      "source": [
        "len(df['Week no'].value_counts())    # total we have 51 week means, 1 week is absent"
      ]
    },
    {
      "cell_type": "markdown",
      "id": "2f735514",
      "metadata": {
        "id": "2f735514"
      },
      "source": [
        "##### Hour"
      ]
    },
    {
      "cell_type": "code",
      "execution_count": null,
      "id": "e5875cd8",
      "metadata": {
        "id": "e5875cd8",
        "outputId": "113996fb-ff4d-46e7-e413-aa47de3c47e5",
        "colab": {
          "base_uri": "https://localhost:8080/",
          "height": 257
        }
      },
      "outputs": [
        {
          "output_type": "execute_result",
          "data": {
            "text/plain": [
              "  InvoiceNo StockCode                         Description  Quantity  \\\n",
              "0  536365.0    85123A  WHITE HANGING HEART T-LIGHT HOLDER       6.0   \n",
              "1       NaN   71053.0                 WHITE METAL LANTERN       6.0   \n",
              "2  536365.0    84406B      CREAM CUPID HEARTS COAT HANGER       8.0   \n",
              "\n",
              "          InvoiceDate  UnitPrice  CustomerID         Country Order Status  \\\n",
              "0 2010-12-01 08:26:00       2.55     17850.0  United Kingdom    Cancelled   \n",
              "1 2010-12-01 08:26:00       3.39     17850.0  United Kingdom    Cancelled   \n",
              "2 2010-12-01 08:26:00       2.75     17850.0  United Kingdom    Cancelled   \n",
              "\n",
              "     Weekday  Week no  Hour  \n",
              "0  Wednesday       48     8  \n",
              "1  Wednesday       48     8  \n",
              "2  Wednesday       48     8  "
            ],
            "text/html": [
              "\n",
              "  <div id=\"df-eef6e018-c3da-4bc2-a2bd-2e716b7dc0fd\">\n",
              "    <div class=\"colab-df-container\">\n",
              "      <div>\n",
              "<style scoped>\n",
              "    .dataframe tbody tr th:only-of-type {\n",
              "        vertical-align: middle;\n",
              "    }\n",
              "\n",
              "    .dataframe tbody tr th {\n",
              "        vertical-align: top;\n",
              "    }\n",
              "\n",
              "    .dataframe thead th {\n",
              "        text-align: right;\n",
              "    }\n",
              "</style>\n",
              "<table border=\"1\" class=\"dataframe\">\n",
              "  <thead>\n",
              "    <tr style=\"text-align: right;\">\n",
              "      <th></th>\n",
              "      <th>InvoiceNo</th>\n",
              "      <th>StockCode</th>\n",
              "      <th>Description</th>\n",
              "      <th>Quantity</th>\n",
              "      <th>InvoiceDate</th>\n",
              "      <th>UnitPrice</th>\n",
              "      <th>CustomerID</th>\n",
              "      <th>Country</th>\n",
              "      <th>Order Status</th>\n",
              "      <th>Weekday</th>\n",
              "      <th>Week no</th>\n",
              "      <th>Hour</th>\n",
              "    </tr>\n",
              "  </thead>\n",
              "  <tbody>\n",
              "    <tr>\n",
              "      <th>0</th>\n",
              "      <td>536365.0</td>\n",
              "      <td>85123A</td>\n",
              "      <td>WHITE HANGING HEART T-LIGHT HOLDER</td>\n",
              "      <td>6.0</td>\n",
              "      <td>2010-12-01 08:26:00</td>\n",
              "      <td>2.55</td>\n",
              "      <td>17850.0</td>\n",
              "      <td>United Kingdom</td>\n",
              "      <td>Cancelled</td>\n",
              "      <td>Wednesday</td>\n",
              "      <td>48</td>\n",
              "      <td>8</td>\n",
              "    </tr>\n",
              "    <tr>\n",
              "      <th>1</th>\n",
              "      <td>NaN</td>\n",
              "      <td>71053.0</td>\n",
              "      <td>WHITE METAL LANTERN</td>\n",
              "      <td>6.0</td>\n",
              "      <td>2010-12-01 08:26:00</td>\n",
              "      <td>3.39</td>\n",
              "      <td>17850.0</td>\n",
              "      <td>United Kingdom</td>\n",
              "      <td>Cancelled</td>\n",
              "      <td>Wednesday</td>\n",
              "      <td>48</td>\n",
              "      <td>8</td>\n",
              "    </tr>\n",
              "    <tr>\n",
              "      <th>2</th>\n",
              "      <td>536365.0</td>\n",
              "      <td>84406B</td>\n",
              "      <td>CREAM CUPID HEARTS COAT HANGER</td>\n",
              "      <td>8.0</td>\n",
              "      <td>2010-12-01 08:26:00</td>\n",
              "      <td>2.75</td>\n",
              "      <td>17850.0</td>\n",
              "      <td>United Kingdom</td>\n",
              "      <td>Cancelled</td>\n",
              "      <td>Wednesday</td>\n",
              "      <td>48</td>\n",
              "      <td>8</td>\n",
              "    </tr>\n",
              "  </tbody>\n",
              "</table>\n",
              "</div>\n",
              "      <button class=\"colab-df-convert\" onclick=\"convertToInteractive('df-eef6e018-c3da-4bc2-a2bd-2e716b7dc0fd')\"\n",
              "              title=\"Convert this dataframe to an interactive table.\"\n",
              "              style=\"display:none;\">\n",
              "        \n",
              "  <svg xmlns=\"http://www.w3.org/2000/svg\" height=\"24px\"viewBox=\"0 0 24 24\"\n",
              "       width=\"24px\">\n",
              "    <path d=\"M0 0h24v24H0V0z\" fill=\"none\"/>\n",
              "    <path d=\"M18.56 5.44l.94 2.06.94-2.06 2.06-.94-2.06-.94-.94-2.06-.94 2.06-2.06.94zm-11 1L8.5 8.5l.94-2.06 2.06-.94-2.06-.94L8.5 2.5l-.94 2.06-2.06.94zm10 10l.94 2.06.94-2.06 2.06-.94-2.06-.94-.94-2.06-.94 2.06-2.06.94z\"/><path d=\"M17.41 7.96l-1.37-1.37c-.4-.4-.92-.59-1.43-.59-.52 0-1.04.2-1.43.59L10.3 9.45l-7.72 7.72c-.78.78-.78 2.05 0 2.83L4 21.41c.39.39.9.59 1.41.59.51 0 1.02-.2 1.41-.59l7.78-7.78 2.81-2.81c.8-.78.8-2.07 0-2.86zM5.41 20L4 18.59l7.72-7.72 1.47 1.35L5.41 20z\"/>\n",
              "  </svg>\n",
              "      </button>\n",
              "      \n",
              "  <style>\n",
              "    .colab-df-container {\n",
              "      display:flex;\n",
              "      flex-wrap:wrap;\n",
              "      gap: 12px;\n",
              "    }\n",
              "\n",
              "    .colab-df-convert {\n",
              "      background-color: #E8F0FE;\n",
              "      border: none;\n",
              "      border-radius: 50%;\n",
              "      cursor: pointer;\n",
              "      display: none;\n",
              "      fill: #1967D2;\n",
              "      height: 32px;\n",
              "      padding: 0 0 0 0;\n",
              "      width: 32px;\n",
              "    }\n",
              "\n",
              "    .colab-df-convert:hover {\n",
              "      background-color: #E2EBFA;\n",
              "      box-shadow: 0px 1px 2px rgba(60, 64, 67, 0.3), 0px 1px 3px 1px rgba(60, 64, 67, 0.15);\n",
              "      fill: #174EA6;\n",
              "    }\n",
              "\n",
              "    [theme=dark] .colab-df-convert {\n",
              "      background-color: #3B4455;\n",
              "      fill: #D2E3FC;\n",
              "    }\n",
              "\n",
              "    [theme=dark] .colab-df-convert:hover {\n",
              "      background-color: #434B5C;\n",
              "      box-shadow: 0px 1px 3px 1px rgba(0, 0, 0, 0.15);\n",
              "      filter: drop-shadow(0px 1px 2px rgba(0, 0, 0, 0.3));\n",
              "      fill: #FFFFFF;\n",
              "    }\n",
              "  </style>\n",
              "\n",
              "      <script>\n",
              "        const buttonEl =\n",
              "          document.querySelector('#df-eef6e018-c3da-4bc2-a2bd-2e716b7dc0fd button.colab-df-convert');\n",
              "        buttonEl.style.display =\n",
              "          google.colab.kernel.accessAllowed ? 'block' : 'none';\n",
              "\n",
              "        async function convertToInteractive(key) {\n",
              "          const element = document.querySelector('#df-eef6e018-c3da-4bc2-a2bd-2e716b7dc0fd');\n",
              "          const dataTable =\n",
              "            await google.colab.kernel.invokeFunction('convertToInteractive',\n",
              "                                                     [key], {});\n",
              "          if (!dataTable) return;\n",
              "\n",
              "          const docLinkHtml = 'Like what you see? Visit the ' +\n",
              "            '<a target=\"_blank\" href=https://colab.research.google.com/notebooks/data_table.ipynb>data table notebook</a>'\n",
              "            + ' to learn more about interactive tables.';\n",
              "          element.innerHTML = '';\n",
              "          dataTable['output_type'] = 'display_data';\n",
              "          await google.colab.output.renderOutput(dataTable, element);\n",
              "          const docLink = document.createElement('div');\n",
              "          docLink.innerHTML = docLinkHtml;\n",
              "          element.appendChild(docLink);\n",
              "        }\n",
              "      </script>\n",
              "    </div>\n",
              "  </div>\n",
              "  "
            ]
          },
          "metadata": {},
          "execution_count": 42
        }
      ],
      "source": [
        "df['Hour']= df.InvoiceDate.astype('datetime64').dt.hour\n",
        "df.head(3)"
      ]
    },
    {
      "cell_type": "code",
      "execution_count": null,
      "id": "5987ed44",
      "metadata": {
        "id": "5987ed44",
        "outputId": "b3b529bd-f6d4-4573-ba51-539e22a51da0"
      },
      "outputs": [
        {
          "data": {
            "text/plain": [
              "12    78709\n",
              "15    77519\n",
              "13    72259\n",
              "14    67471\n",
              "11    57674\n",
              "16    54516\n",
              "10    49037\n",
              "9     34332\n",
              "17    28509\n",
              "8      8909\n",
              "18     7974\n",
              "19     3705\n",
              "20      871\n",
              "7       383\n",
              "6        41\n",
              "Name: Hour, dtype: int64"
            ]
          },
          "execution_count": 14,
          "metadata": {},
          "output_type": "execute_result"
        }
      ],
      "source": [
        "df.Hour.value_counts()"
      ]
    },
    {
      "cell_type": "code",
      "execution_count": null,
      "id": "3560914d",
      "metadata": {
        "id": "3560914d",
        "outputId": "5a89949c-d32e-49cd-8875-ceb1d5b4e748",
        "colab": {
          "base_uri": "https://localhost:8080/",
          "height": 291
        }
      },
      "outputs": [
        {
          "output_type": "execute_result",
          "data": {
            "text/plain": [
              "  InvoiceNo StockCode                         Description  Quantity  \\\n",
              "0  536365.0    85123A  WHITE HANGING HEART T-LIGHT HOLDER       6.0   \n",
              "1       NaN   71053.0                 WHITE METAL LANTERN       6.0   \n",
              "2  536365.0    84406B      CREAM CUPID HEARTS COAT HANGER       8.0   \n",
              "\n",
              "          InvoiceDate  UnitPrice  CustomerID         Country Order Status  \\\n",
              "0 2010-12-01 08:26:00       2.55     17850.0  United Kingdom    Cancelled   \n",
              "1 2010-12-01 08:26:00       3.39     17850.0  United Kingdom    Cancelled   \n",
              "2 2010-12-01 08:26:00       2.75     17850.0  United Kingdom    Cancelled   \n",
              "\n",
              "     Weekday  Week no  Hour     MAEN  \n",
              "0  Wednesday       48     8  Morning  \n",
              "1  Wednesday       48     8  Morning  \n",
              "2  Wednesday       48     8  Morning  "
            ],
            "text/html": [
              "\n",
              "  <div id=\"df-c6cff4ad-0d05-4f55-9873-a08e1ceb4205\">\n",
              "    <div class=\"colab-df-container\">\n",
              "      <div>\n",
              "<style scoped>\n",
              "    .dataframe tbody tr th:only-of-type {\n",
              "        vertical-align: middle;\n",
              "    }\n",
              "\n",
              "    .dataframe tbody tr th {\n",
              "        vertical-align: top;\n",
              "    }\n",
              "\n",
              "    .dataframe thead th {\n",
              "        text-align: right;\n",
              "    }\n",
              "</style>\n",
              "<table border=\"1\" class=\"dataframe\">\n",
              "  <thead>\n",
              "    <tr style=\"text-align: right;\">\n",
              "      <th></th>\n",
              "      <th>InvoiceNo</th>\n",
              "      <th>StockCode</th>\n",
              "      <th>Description</th>\n",
              "      <th>Quantity</th>\n",
              "      <th>InvoiceDate</th>\n",
              "      <th>UnitPrice</th>\n",
              "      <th>CustomerID</th>\n",
              "      <th>Country</th>\n",
              "      <th>Order Status</th>\n",
              "      <th>Weekday</th>\n",
              "      <th>Week no</th>\n",
              "      <th>Hour</th>\n",
              "      <th>MAEN</th>\n",
              "    </tr>\n",
              "  </thead>\n",
              "  <tbody>\n",
              "    <tr>\n",
              "      <th>0</th>\n",
              "      <td>536365.0</td>\n",
              "      <td>85123A</td>\n",
              "      <td>WHITE HANGING HEART T-LIGHT HOLDER</td>\n",
              "      <td>6.0</td>\n",
              "      <td>2010-12-01 08:26:00</td>\n",
              "      <td>2.55</td>\n",
              "      <td>17850.0</td>\n",
              "      <td>United Kingdom</td>\n",
              "      <td>Cancelled</td>\n",
              "      <td>Wednesday</td>\n",
              "      <td>48</td>\n",
              "      <td>8</td>\n",
              "      <td>Morning</td>\n",
              "    </tr>\n",
              "    <tr>\n",
              "      <th>1</th>\n",
              "      <td>NaN</td>\n",
              "      <td>71053.0</td>\n",
              "      <td>WHITE METAL LANTERN</td>\n",
              "      <td>6.0</td>\n",
              "      <td>2010-12-01 08:26:00</td>\n",
              "      <td>3.39</td>\n",
              "      <td>17850.0</td>\n",
              "      <td>United Kingdom</td>\n",
              "      <td>Cancelled</td>\n",
              "      <td>Wednesday</td>\n",
              "      <td>48</td>\n",
              "      <td>8</td>\n",
              "      <td>Morning</td>\n",
              "    </tr>\n",
              "    <tr>\n",
              "      <th>2</th>\n",
              "      <td>536365.0</td>\n",
              "      <td>84406B</td>\n",
              "      <td>CREAM CUPID HEARTS COAT HANGER</td>\n",
              "      <td>8.0</td>\n",
              "      <td>2010-12-01 08:26:00</td>\n",
              "      <td>2.75</td>\n",
              "      <td>17850.0</td>\n",
              "      <td>United Kingdom</td>\n",
              "      <td>Cancelled</td>\n",
              "      <td>Wednesday</td>\n",
              "      <td>48</td>\n",
              "      <td>8</td>\n",
              "      <td>Morning</td>\n",
              "    </tr>\n",
              "  </tbody>\n",
              "</table>\n",
              "</div>\n",
              "      <button class=\"colab-df-convert\" onclick=\"convertToInteractive('df-c6cff4ad-0d05-4f55-9873-a08e1ceb4205')\"\n",
              "              title=\"Convert this dataframe to an interactive table.\"\n",
              "              style=\"display:none;\">\n",
              "        \n",
              "  <svg xmlns=\"http://www.w3.org/2000/svg\" height=\"24px\"viewBox=\"0 0 24 24\"\n",
              "       width=\"24px\">\n",
              "    <path d=\"M0 0h24v24H0V0z\" fill=\"none\"/>\n",
              "    <path d=\"M18.56 5.44l.94 2.06.94-2.06 2.06-.94-2.06-.94-.94-2.06-.94 2.06-2.06.94zm-11 1L8.5 8.5l.94-2.06 2.06-.94-2.06-.94L8.5 2.5l-.94 2.06-2.06.94zm10 10l.94 2.06.94-2.06 2.06-.94-2.06-.94-.94-2.06-.94 2.06-2.06.94z\"/><path d=\"M17.41 7.96l-1.37-1.37c-.4-.4-.92-.59-1.43-.59-.52 0-1.04.2-1.43.59L10.3 9.45l-7.72 7.72c-.78.78-.78 2.05 0 2.83L4 21.41c.39.39.9.59 1.41.59.51 0 1.02-.2 1.41-.59l7.78-7.78 2.81-2.81c.8-.78.8-2.07 0-2.86zM5.41 20L4 18.59l7.72-7.72 1.47 1.35L5.41 20z\"/>\n",
              "  </svg>\n",
              "      </button>\n",
              "      \n",
              "  <style>\n",
              "    .colab-df-container {\n",
              "      display:flex;\n",
              "      flex-wrap:wrap;\n",
              "      gap: 12px;\n",
              "    }\n",
              "\n",
              "    .colab-df-convert {\n",
              "      background-color: #E8F0FE;\n",
              "      border: none;\n",
              "      border-radius: 50%;\n",
              "      cursor: pointer;\n",
              "      display: none;\n",
              "      fill: #1967D2;\n",
              "      height: 32px;\n",
              "      padding: 0 0 0 0;\n",
              "      width: 32px;\n",
              "    }\n",
              "\n",
              "    .colab-df-convert:hover {\n",
              "      background-color: #E2EBFA;\n",
              "      box-shadow: 0px 1px 2px rgba(60, 64, 67, 0.3), 0px 1px 3px 1px rgba(60, 64, 67, 0.15);\n",
              "      fill: #174EA6;\n",
              "    }\n",
              "\n",
              "    [theme=dark] .colab-df-convert {\n",
              "      background-color: #3B4455;\n",
              "      fill: #D2E3FC;\n",
              "    }\n",
              "\n",
              "    [theme=dark] .colab-df-convert:hover {\n",
              "      background-color: #434B5C;\n",
              "      box-shadow: 0px 1px 3px 1px rgba(0, 0, 0, 0.15);\n",
              "      filter: drop-shadow(0px 1px 2px rgba(0, 0, 0, 0.3));\n",
              "      fill: #FFFFFF;\n",
              "    }\n",
              "  </style>\n",
              "\n",
              "      <script>\n",
              "        const buttonEl =\n",
              "          document.querySelector('#df-c6cff4ad-0d05-4f55-9873-a08e1ceb4205 button.colab-df-convert');\n",
              "        buttonEl.style.display =\n",
              "          google.colab.kernel.accessAllowed ? 'block' : 'none';\n",
              "\n",
              "        async function convertToInteractive(key) {\n",
              "          const element = document.querySelector('#df-c6cff4ad-0d05-4f55-9873-a08e1ceb4205');\n",
              "          const dataTable =\n",
              "            await google.colab.kernel.invokeFunction('convertToInteractive',\n",
              "                                                     [key], {});\n",
              "          if (!dataTable) return;\n",
              "\n",
              "          const docLinkHtml = 'Like what you see? Visit the ' +\n",
              "            '<a target=\"_blank\" href=https://colab.research.google.com/notebooks/data_table.ipynb>data table notebook</a>'\n",
              "            + ' to learn more about interactive tables.';\n",
              "          element.innerHTML = '';\n",
              "          dataTable['output_type'] = 'display_data';\n",
              "          await google.colab.output.renderOutput(dataTable, element);\n",
              "          const docLink = document.createElement('div');\n",
              "          docLink.innerHTML = docLinkHtml;\n",
              "          element.appendChild(docLink);\n",
              "        }\n",
              "      </script>\n",
              "    </div>\n",
              "  </div>\n",
              "  "
            ]
          },
          "metadata": {},
          "execution_count": 43
        }
      ],
      "source": [
        "df['MAEN'] = df.Hour.replace(to_replace=[[6,7,8,9,10,11],[12,13,14,15,16],[17,18,19,20]],\n",
        "                             value=['Morning', 'After_Noon', 'Evening'])\n",
        "df.head(3)"
      ]
    },
    {
      "cell_type": "code",
      "execution_count": null,
      "id": "541859e1",
      "metadata": {
        "id": "541859e1",
        "outputId": "a3892991-8d60-45d1-d427-c4c8bbac4723"
      },
      "outputs": [
        {
          "data": {
            "text/plain": [
              "After_Noon    350474\n",
              "Morning       150376\n",
              "Evening        41059\n",
              "Name: MAEN, dtype: int64"
            ]
          },
          "execution_count": 16,
          "metadata": {},
          "output_type": "execute_result"
        }
      ],
      "source": [
        "df.MAEN.value_counts()"
      ]
    },
    {
      "cell_type": "markdown",
      "id": "1e67af81",
      "metadata": {
        "id": "1e67af81"
      },
      "source": [
        "##### Month"
      ]
    },
    {
      "cell_type": "code",
      "execution_count": null,
      "id": "aba49dec",
      "metadata": {
        "id": "aba49dec",
        "outputId": "1c6d805d-b0b6-4d28-c8d7-51303805d204",
        "colab": {
          "base_uri": "https://localhost:8080/",
          "height": 378
        }
      },
      "outputs": [
        {
          "output_type": "execute_result",
          "data": {
            "text/plain": [
              "  InvoiceNo StockCode                         Description  Quantity  \\\n",
              "0  536365.0    85123A  WHITE HANGING HEART T-LIGHT HOLDER       6.0   \n",
              "1       NaN   71053.0                 WHITE METAL LANTERN       6.0   \n",
              "2  536365.0    84406B      CREAM CUPID HEARTS COAT HANGER       8.0   \n",
              "\n",
              "          InvoiceDate  UnitPrice  CustomerID         Country Order Status  \\\n",
              "0 2010-12-01 08:26:00       2.55     17850.0  United Kingdom    Cancelled   \n",
              "1 2010-12-01 08:26:00       3.39     17850.0  United Kingdom    Cancelled   \n",
              "2 2010-12-01 08:26:00       2.75     17850.0  United Kingdom    Cancelled   \n",
              "\n",
              "     Weekday  Week no  Hour     MAEN     Month  \n",
              "0  Wednesday       48     8  Morning  December  \n",
              "1  Wednesday       48     8  Morning  December  \n",
              "2  Wednesday       48     8  Morning  December  "
            ],
            "text/html": [
              "\n",
              "  <div id=\"df-71d7022a-935c-4efe-8767-c7c651d79e79\">\n",
              "    <div class=\"colab-df-container\">\n",
              "      <div>\n",
              "<style scoped>\n",
              "    .dataframe tbody tr th:only-of-type {\n",
              "        vertical-align: middle;\n",
              "    }\n",
              "\n",
              "    .dataframe tbody tr th {\n",
              "        vertical-align: top;\n",
              "    }\n",
              "\n",
              "    .dataframe thead th {\n",
              "        text-align: right;\n",
              "    }\n",
              "</style>\n",
              "<table border=\"1\" class=\"dataframe\">\n",
              "  <thead>\n",
              "    <tr style=\"text-align: right;\">\n",
              "      <th></th>\n",
              "      <th>InvoiceNo</th>\n",
              "      <th>StockCode</th>\n",
              "      <th>Description</th>\n",
              "      <th>Quantity</th>\n",
              "      <th>InvoiceDate</th>\n",
              "      <th>UnitPrice</th>\n",
              "      <th>CustomerID</th>\n",
              "      <th>Country</th>\n",
              "      <th>Order Status</th>\n",
              "      <th>Weekday</th>\n",
              "      <th>Week no</th>\n",
              "      <th>Hour</th>\n",
              "      <th>MAEN</th>\n",
              "      <th>Month</th>\n",
              "    </tr>\n",
              "  </thead>\n",
              "  <tbody>\n",
              "    <tr>\n",
              "      <th>0</th>\n",
              "      <td>536365.0</td>\n",
              "      <td>85123A</td>\n",
              "      <td>WHITE HANGING HEART T-LIGHT HOLDER</td>\n",
              "      <td>6.0</td>\n",
              "      <td>2010-12-01 08:26:00</td>\n",
              "      <td>2.55</td>\n",
              "      <td>17850.0</td>\n",
              "      <td>United Kingdom</td>\n",
              "      <td>Cancelled</td>\n",
              "      <td>Wednesday</td>\n",
              "      <td>48</td>\n",
              "      <td>8</td>\n",
              "      <td>Morning</td>\n",
              "      <td>December</td>\n",
              "    </tr>\n",
              "    <tr>\n",
              "      <th>1</th>\n",
              "      <td>NaN</td>\n",
              "      <td>71053.0</td>\n",
              "      <td>WHITE METAL LANTERN</td>\n",
              "      <td>6.0</td>\n",
              "      <td>2010-12-01 08:26:00</td>\n",
              "      <td>3.39</td>\n",
              "      <td>17850.0</td>\n",
              "      <td>United Kingdom</td>\n",
              "      <td>Cancelled</td>\n",
              "      <td>Wednesday</td>\n",
              "      <td>48</td>\n",
              "      <td>8</td>\n",
              "      <td>Morning</td>\n",
              "      <td>December</td>\n",
              "    </tr>\n",
              "    <tr>\n",
              "      <th>2</th>\n",
              "      <td>536365.0</td>\n",
              "      <td>84406B</td>\n",
              "      <td>CREAM CUPID HEARTS COAT HANGER</td>\n",
              "      <td>8.0</td>\n",
              "      <td>2010-12-01 08:26:00</td>\n",
              "      <td>2.75</td>\n",
              "      <td>17850.0</td>\n",
              "      <td>United Kingdom</td>\n",
              "      <td>Cancelled</td>\n",
              "      <td>Wednesday</td>\n",
              "      <td>48</td>\n",
              "      <td>8</td>\n",
              "      <td>Morning</td>\n",
              "      <td>December</td>\n",
              "    </tr>\n",
              "  </tbody>\n",
              "</table>\n",
              "</div>\n",
              "      <button class=\"colab-df-convert\" onclick=\"convertToInteractive('df-71d7022a-935c-4efe-8767-c7c651d79e79')\"\n",
              "              title=\"Convert this dataframe to an interactive table.\"\n",
              "              style=\"display:none;\">\n",
              "        \n",
              "  <svg xmlns=\"http://www.w3.org/2000/svg\" height=\"24px\"viewBox=\"0 0 24 24\"\n",
              "       width=\"24px\">\n",
              "    <path d=\"M0 0h24v24H0V0z\" fill=\"none\"/>\n",
              "    <path d=\"M18.56 5.44l.94 2.06.94-2.06 2.06-.94-2.06-.94-.94-2.06-.94 2.06-2.06.94zm-11 1L8.5 8.5l.94-2.06 2.06-.94-2.06-.94L8.5 2.5l-.94 2.06-2.06.94zm10 10l.94 2.06.94-2.06 2.06-.94-2.06-.94-.94-2.06-.94 2.06-2.06.94z\"/><path d=\"M17.41 7.96l-1.37-1.37c-.4-.4-.92-.59-1.43-.59-.52 0-1.04.2-1.43.59L10.3 9.45l-7.72 7.72c-.78.78-.78 2.05 0 2.83L4 21.41c.39.39.9.59 1.41.59.51 0 1.02-.2 1.41-.59l7.78-7.78 2.81-2.81c.8-.78.8-2.07 0-2.86zM5.41 20L4 18.59l7.72-7.72 1.47 1.35L5.41 20z\"/>\n",
              "  </svg>\n",
              "      </button>\n",
              "      \n",
              "  <style>\n",
              "    .colab-df-container {\n",
              "      display:flex;\n",
              "      flex-wrap:wrap;\n",
              "      gap: 12px;\n",
              "    }\n",
              "\n",
              "    .colab-df-convert {\n",
              "      background-color: #E8F0FE;\n",
              "      border: none;\n",
              "      border-radius: 50%;\n",
              "      cursor: pointer;\n",
              "      display: none;\n",
              "      fill: #1967D2;\n",
              "      height: 32px;\n",
              "      padding: 0 0 0 0;\n",
              "      width: 32px;\n",
              "    }\n",
              "\n",
              "    .colab-df-convert:hover {\n",
              "      background-color: #E2EBFA;\n",
              "      box-shadow: 0px 1px 2px rgba(60, 64, 67, 0.3), 0px 1px 3px 1px rgba(60, 64, 67, 0.15);\n",
              "      fill: #174EA6;\n",
              "    }\n",
              "\n",
              "    [theme=dark] .colab-df-convert {\n",
              "      background-color: #3B4455;\n",
              "      fill: #D2E3FC;\n",
              "    }\n",
              "\n",
              "    [theme=dark] .colab-df-convert:hover {\n",
              "      background-color: #434B5C;\n",
              "      box-shadow: 0px 1px 3px 1px rgba(0, 0, 0, 0.15);\n",
              "      filter: drop-shadow(0px 1px 2px rgba(0, 0, 0, 0.3));\n",
              "      fill: #FFFFFF;\n",
              "    }\n",
              "  </style>\n",
              "\n",
              "      <script>\n",
              "        const buttonEl =\n",
              "          document.querySelector('#df-71d7022a-935c-4efe-8767-c7c651d79e79 button.colab-df-convert');\n",
              "        buttonEl.style.display =\n",
              "          google.colab.kernel.accessAllowed ? 'block' : 'none';\n",
              "\n",
              "        async function convertToInteractive(key) {\n",
              "          const element = document.querySelector('#df-71d7022a-935c-4efe-8767-c7c651d79e79');\n",
              "          const dataTable =\n",
              "            await google.colab.kernel.invokeFunction('convertToInteractive',\n",
              "                                                     [key], {});\n",
              "          if (!dataTable) return;\n",
              "\n",
              "          const docLinkHtml = 'Like what you see? Visit the ' +\n",
              "            '<a target=\"_blank\" href=https://colab.research.google.com/notebooks/data_table.ipynb>data table notebook</a>'\n",
              "            + ' to learn more about interactive tables.';\n",
              "          element.innerHTML = '';\n",
              "          dataTable['output_type'] = 'display_data';\n",
              "          await google.colab.output.renderOutput(dataTable, element);\n",
              "          const docLink = document.createElement('div');\n",
              "          docLink.innerHTML = docLinkHtml;\n",
              "          element.appendChild(docLink);\n",
              "        }\n",
              "      </script>\n",
              "    </div>\n",
              "  </div>\n",
              "  "
            ]
          },
          "metadata": {},
          "execution_count": 44
        }
      ],
      "source": [
        "df['Month']= df.InvoiceDate.astype('datetime64').dt.month_name()\n",
        "df.head(3)"
      ]
    },
    {
      "cell_type": "code",
      "execution_count": null,
      "id": "c5a2dfc0",
      "metadata": {
        "id": "c5a2dfc0",
        "outputId": "b35ed817-d92f-4f19-aa76-d275273a8d2e"
      },
      "outputs": [
        {
          "data": {
            "text/plain": [
              "November     84711\n",
              "December     68006\n",
              "October      60742\n",
              "September    50226\n",
              "July         39518\n",
              "May          37030\n",
              "June         36874\n",
              "March        36748\n",
              "August       35284\n",
              "January      35147\n",
              "April        29916\n",
              "February     27707\n",
              "Name: Month, dtype: int64"
            ]
          },
          "execution_count": 18,
          "metadata": {},
          "output_type": "execute_result"
        }
      ],
      "source": [
        "df.Month.value_counts()  # all month is present"
      ]
    },
    {
      "cell_type": "code",
      "execution_count": null,
      "id": "3ff2837c",
      "metadata": {
        "id": "3ff2837c"
      },
      "outputs": [],
      "source": [
        "# df['FY_QTR'] = df['Month'].replace(to_replace=[['January','February', 'March'],['April','May', 'June'],\n",
        "#                                            ['July','August', 'September'],['October','November','December']],\n",
        "#                                value=['Q4', 'Q1', 'Q2', 'Q3'])\n",
        "# df.head(3)"
      ]
    },
    {
      "cell_type": "code",
      "execution_count": 3,
      "id": "eed3bc17",
      "metadata": {
        "id": "eed3bc17",
        "colab": {
          "base_uri": "https://localhost:8080/",
          "height": 166
        },
        "outputId": "c5218c7b-fe25-401f-aa25-bd7a11e5cad6"
      },
      "outputs": [
        {
          "output_type": "error",
          "ename": "NameError",
          "evalue": "ignored",
          "traceback": [
            "\u001b[0;31m---------------------------------------------------------------------------\u001b[0m",
            "\u001b[0;31mNameError\u001b[0m                                 Traceback (most recent call last)",
            "\u001b[0;32m<ipython-input-3-281e0fed41bd>\u001b[0m in \u001b[0;36m<module>\u001b[0;34m()\u001b[0m\n\u001b[0;32m----> 1\u001b[0;31m \u001b[0mdf1\u001b[0m\u001b[0;34m[\u001b[0m\u001b[0;34m'FY_QTR'\u001b[0m\u001b[0;34m]\u001b[0m \u001b[0;34m=\u001b[0m \u001b[0mdf1\u001b[0m\u001b[0;34m.\u001b[0m\u001b[0mMonth\u001b[0m\u001b[0;34m.\u001b[0m\u001b[0mreplace\u001b[0m\u001b[0;34m(\u001b[0m\u001b[0mto_replace\u001b[0m\u001b[0;34m=\u001b[0m \u001b[0;34m[\u001b[0m\u001b[0;34m'April'\u001b[0m\u001b[0;34m,\u001b[0m\u001b[0;34m'May'\u001b[0m\u001b[0;34m,\u001b[0m \u001b[0;34m'June'\u001b[0m\u001b[0;34m]\u001b[0m\u001b[0;34m,\u001b[0m \u001b[0mvalue\u001b[0m\u001b[0;34m=\u001b[0m\u001b[0;34m'Q1'\u001b[0m\u001b[0;34m)\u001b[0m\u001b[0;34m\u001b[0m\u001b[0;34m\u001b[0m\u001b[0m\n\u001b[0m",
            "\u001b[0;31mNameError\u001b[0m: name 'df1' is not defined"
          ]
        }
      ],
      "source": [
        "df['FY_QTR'] = df.Month.replace(to_replace= ['April','May', 'June'], value='Q1')  "
      ]
    },
    {
      "cell_type": "code",
      "execution_count": null,
      "id": "8bd17f3e",
      "metadata": {
        "id": "8bd17f3e"
      },
      "outputs": [],
      "source": [
        "df['FY_QTR'] = df.FY_QTR.replace(to_replace=['July','August', 'September'], value='Q2')"
      ]
    },
    {
      "cell_type": "code",
      "execution_count": null,
      "id": "ed8a2560",
      "metadata": {
        "id": "ed8a2560"
      },
      "outputs": [],
      "source": [
        " df['FY_QTR'] = df.FY_QTR.replace(to_replace=['October','November', 'December'], value='Q3')"
      ]
    },
    {
      "cell_type": "code",
      "execution_count": null,
      "id": "d704c2e6",
      "metadata": {
        "id": "d704c2e6"
      },
      "outputs": [],
      "source": [
        "df['FY_QTR'] = df.FY_QTR.replace(to_replace=['January','February', 'March'], value='Q4')"
      ]
    },
    {
      "cell_type": "code",
      "execution_count": null,
      "id": "4dbcb708",
      "metadata": {
        "id": "4dbcb708",
        "outputId": "15aac79e-5bc1-4e5d-c3c8-6c83495af655",
        "colab": {
          "base_uri": "https://localhost:8080/"
        }
      },
      "outputs": [
        {
          "output_type": "execute_result",
          "data": {
            "text/plain": [
              "Q3    213459\n",
              "Q2    125028\n",
              "Q1    103820\n",
              "Q4     99602\n",
              "Name: FY_QTR, dtype: int64"
            ]
          },
          "metadata": {},
          "execution_count": 49
        }
      ],
      "source": [
        "df.FY_QTR.value_counts()"
      ]
    },
    {
      "cell_type": "code",
      "execution_count": null,
      "id": "853cdcc5",
      "metadata": {
        "id": "853cdcc5",
        "outputId": "fe4ef194-daa2-497c-9fc5-2e231a2010fb"
      },
      "outputs": [
        {
          "data": {
            "text/html": [
              "<div>\n",
              "<style scoped>\n",
              "    .dataframe tbody tr th:only-of-type {\n",
              "        vertical-align: middle;\n",
              "    }\n",
              "\n",
              "    .dataframe tbody tr th {\n",
              "        vertical-align: top;\n",
              "    }\n",
              "\n",
              "    .dataframe thead th {\n",
              "        text-align: right;\n",
              "    }\n",
              "</style>\n",
              "<table border=\"1\" class=\"dataframe\">\n",
              "  <thead>\n",
              "    <tr style=\"text-align: right;\">\n",
              "      <th></th>\n",
              "      <th>InvoiceNo</th>\n",
              "      <th>StockCode</th>\n",
              "      <th>Description</th>\n",
              "      <th>Quantity</th>\n",
              "      <th>InvoiceDate</th>\n",
              "      <th>UnitPrice</th>\n",
              "      <th>CustomerID</th>\n",
              "      <th>Country</th>\n",
              "      <th>Order Status</th>\n",
              "      <th>Weekday</th>\n",
              "      <th>Week no</th>\n",
              "      <th>Hour</th>\n",
              "      <th>MAEN</th>\n",
              "      <th>Month</th>\n",
              "      <th>FY_QTR</th>\n",
              "    </tr>\n",
              "  </thead>\n",
              "  <tbody>\n",
              "    <tr>\n",
              "      <th>0</th>\n",
              "      <td>536365</td>\n",
              "      <td>85123A</td>\n",
              "      <td>WHITE HANGING HEART T-LIGHT HOLDER</td>\n",
              "      <td>6</td>\n",
              "      <td>2010-12-01 08:26:00</td>\n",
              "      <td>2.55</td>\n",
              "      <td>17850.0</td>\n",
              "      <td>United Kingdom</td>\n",
              "      <td>Accepted</td>\n",
              "      <td>Wednesday</td>\n",
              "      <td>48</td>\n",
              "      <td>8</td>\n",
              "      <td>Morning</td>\n",
              "      <td>December</td>\n",
              "      <td>Q3</td>\n",
              "    </tr>\n",
              "    <tr>\n",
              "      <th>1</th>\n",
              "      <td>536365</td>\n",
              "      <td>71053</td>\n",
              "      <td>WHITE METAL LANTERN</td>\n",
              "      <td>6</td>\n",
              "      <td>2010-12-01 08:26:00</td>\n",
              "      <td>3.39</td>\n",
              "      <td>17850.0</td>\n",
              "      <td>United Kingdom</td>\n",
              "      <td>Accepted</td>\n",
              "      <td>Wednesday</td>\n",
              "      <td>48</td>\n",
              "      <td>8</td>\n",
              "      <td>Morning</td>\n",
              "      <td>December</td>\n",
              "      <td>Q3</td>\n",
              "    </tr>\n",
              "    <tr>\n",
              "      <th>2</th>\n",
              "      <td>536365</td>\n",
              "      <td>84406B</td>\n",
              "      <td>CREAM CUPID HEARTS COAT HANGER</td>\n",
              "      <td>8</td>\n",
              "      <td>2010-12-01 08:26:00</td>\n",
              "      <td>2.75</td>\n",
              "      <td>17850.0</td>\n",
              "      <td>United Kingdom</td>\n",
              "      <td>Accepted</td>\n",
              "      <td>Wednesday</td>\n",
              "      <td>48</td>\n",
              "      <td>8</td>\n",
              "      <td>Morning</td>\n",
              "      <td>December</td>\n",
              "      <td>Q3</td>\n",
              "    </tr>\n",
              "    <tr>\n",
              "      <th>3</th>\n",
              "      <td>536365</td>\n",
              "      <td>84029G</td>\n",
              "      <td>KNITTED UNION FLAG HOT WATER BOTTLE</td>\n",
              "      <td>6</td>\n",
              "      <td>2010-12-01 08:26:00</td>\n",
              "      <td>3.39</td>\n",
              "      <td>17850.0</td>\n",
              "      <td>United Kingdom</td>\n",
              "      <td>Accepted</td>\n",
              "      <td>Wednesday</td>\n",
              "      <td>48</td>\n",
              "      <td>8</td>\n",
              "      <td>Morning</td>\n",
              "      <td>December</td>\n",
              "      <td>Q3</td>\n",
              "    </tr>\n",
              "    <tr>\n",
              "      <th>4</th>\n",
              "      <td>536365</td>\n",
              "      <td>84029E</td>\n",
              "      <td>RED WOOLLY HOTTIE WHITE HEART.</td>\n",
              "      <td>6</td>\n",
              "      <td>2010-12-01 08:26:00</td>\n",
              "      <td>3.39</td>\n",
              "      <td>17850.0</td>\n",
              "      <td>United Kingdom</td>\n",
              "      <td>Accepted</td>\n",
              "      <td>Wednesday</td>\n",
              "      <td>48</td>\n",
              "      <td>8</td>\n",
              "      <td>Morning</td>\n",
              "      <td>December</td>\n",
              "      <td>Q3</td>\n",
              "    </tr>\n",
              "  </tbody>\n",
              "</table>\n",
              "</div>"
            ],
            "text/plain": [
              "  InvoiceNo StockCode                          Description  Quantity  \\\n",
              "0    536365    85123A   WHITE HANGING HEART T-LIGHT HOLDER         6   \n",
              "1    536365     71053                  WHITE METAL LANTERN         6   \n",
              "2    536365    84406B       CREAM CUPID HEARTS COAT HANGER         8   \n",
              "3    536365    84029G  KNITTED UNION FLAG HOT WATER BOTTLE         6   \n",
              "4    536365    84029E       RED WOOLLY HOTTIE WHITE HEART.         6   \n",
              "\n",
              "          InvoiceDate  UnitPrice  CustomerID         Country Order Status  \\\n",
              "0 2010-12-01 08:26:00       2.55     17850.0  United Kingdom     Accepted   \n",
              "1 2010-12-01 08:26:00       3.39     17850.0  United Kingdom     Accepted   \n",
              "2 2010-12-01 08:26:00       2.75     17850.0  United Kingdom     Accepted   \n",
              "3 2010-12-01 08:26:00       3.39     17850.0  United Kingdom     Accepted   \n",
              "4 2010-12-01 08:26:00       3.39     17850.0  United Kingdom     Accepted   \n",
              "\n",
              "     Weekday  Week no  Hour     MAEN     Month FY_QTR  \n",
              "0  Wednesday       48     8  Morning  December     Q3  \n",
              "1  Wednesday       48     8  Morning  December     Q3  \n",
              "2  Wednesday       48     8  Morning  December     Q3  \n",
              "3  Wednesday       48     8  Morning  December     Q3  \n",
              "4  Wednesday       48     8  Morning  December     Q3  "
            ]
          },
          "execution_count": 24,
          "metadata": {},
          "output_type": "execute_result"
        }
      ],
      "source": [
        "df.head()"
      ]
    },
    {
      "cell_type": "markdown",
      "id": "d63d2fe0",
      "metadata": {
        "id": "d63d2fe0"
      },
      "source": [
        "#### Make a copy of this dataset for further preprocessing"
      ]
    },
    {
      "cell_type": "code",
      "execution_count": null,
      "id": "1e266996",
      "metadata": {
        "id": "1e266996"
      },
      "outputs": [],
      "source": [
        "df1= df.copy()"
      ]
    },
    {
      "cell_type": "code",
      "execution_count": null,
      "id": "f7fc25cf",
      "metadata": {
        "id": "f7fc25cf",
        "outputId": "090110c7-c25f-4265-dc81-c25ea050958c",
        "colab": {
          "base_uri": "https://localhost:8080/",
          "height": 600
        }
      },
      "outputs": [
        {
          "output_type": "execute_result",
          "data": {
            "text/plain": [
              "  InvoiceNo StockCode                          Description  Quantity  \\\n",
              "0  536365.0    85123A   WHITE HANGING HEART T-LIGHT HOLDER       6.0   \n",
              "1       NaN   71053.0                  WHITE METAL LANTERN       6.0   \n",
              "2  536365.0    84406B       CREAM CUPID HEARTS COAT HANGER       8.0   \n",
              "3  536365.0    84029G  KNITTED UNION FLAG HOT WATER BOTTLE       6.0   \n",
              "4  536365.0    84029E       RED WOOLLY HOTTIE WHITE HEART.       6.0   \n",
              "\n",
              "          InvoiceDate  UnitPrice  CustomerID         Country Order Status  \\\n",
              "0 2010-12-01 08:26:00       2.55     17850.0  United Kingdom    Cancelled   \n",
              "1 2010-12-01 08:26:00       3.39     17850.0  United Kingdom    Cancelled   \n",
              "2 2010-12-01 08:26:00       2.75     17850.0  United Kingdom    Cancelled   \n",
              "3 2010-12-01 08:26:00       3.39     17850.0  United Kingdom    Cancelled   \n",
              "4 2010-12-01 08:26:00       3.39     17850.0  United Kingdom    Cancelled   \n",
              "\n",
              "     Weekday  Week no  Hour     MAEN     Month FY_QTR  \n",
              "0  Wednesday       48     8  Morning  December     Q3  \n",
              "1  Wednesday       48     8  Morning  December     Q3  \n",
              "2  Wednesday       48     8  Morning  December     Q3  \n",
              "3  Wednesday       48     8  Morning  December     Q3  \n",
              "4  Wednesday       48     8  Morning  December     Q3  "
            ],
            "text/html": [
              "\n",
              "  <div id=\"df-a4cc3e2e-3abf-48d3-85b0-72b16fe6546a\">\n",
              "    <div class=\"colab-df-container\">\n",
              "      <div>\n",
              "<style scoped>\n",
              "    .dataframe tbody tr th:only-of-type {\n",
              "        vertical-align: middle;\n",
              "    }\n",
              "\n",
              "    .dataframe tbody tr th {\n",
              "        vertical-align: top;\n",
              "    }\n",
              "\n",
              "    .dataframe thead th {\n",
              "        text-align: right;\n",
              "    }\n",
              "</style>\n",
              "<table border=\"1\" class=\"dataframe\">\n",
              "  <thead>\n",
              "    <tr style=\"text-align: right;\">\n",
              "      <th></th>\n",
              "      <th>InvoiceNo</th>\n",
              "      <th>StockCode</th>\n",
              "      <th>Description</th>\n",
              "      <th>Quantity</th>\n",
              "      <th>InvoiceDate</th>\n",
              "      <th>UnitPrice</th>\n",
              "      <th>CustomerID</th>\n",
              "      <th>Country</th>\n",
              "      <th>Order Status</th>\n",
              "      <th>Weekday</th>\n",
              "      <th>Week no</th>\n",
              "      <th>Hour</th>\n",
              "      <th>MAEN</th>\n",
              "      <th>Month</th>\n",
              "      <th>FY_QTR</th>\n",
              "    </tr>\n",
              "  </thead>\n",
              "  <tbody>\n",
              "    <tr>\n",
              "      <th>0</th>\n",
              "      <td>536365.0</td>\n",
              "      <td>85123A</td>\n",
              "      <td>WHITE HANGING HEART T-LIGHT HOLDER</td>\n",
              "      <td>6.0</td>\n",
              "      <td>2010-12-01 08:26:00</td>\n",
              "      <td>2.55</td>\n",
              "      <td>17850.0</td>\n",
              "      <td>United Kingdom</td>\n",
              "      <td>Cancelled</td>\n",
              "      <td>Wednesday</td>\n",
              "      <td>48</td>\n",
              "      <td>8</td>\n",
              "      <td>Morning</td>\n",
              "      <td>December</td>\n",
              "      <td>Q3</td>\n",
              "    </tr>\n",
              "    <tr>\n",
              "      <th>1</th>\n",
              "      <td>NaN</td>\n",
              "      <td>71053.0</td>\n",
              "      <td>WHITE METAL LANTERN</td>\n",
              "      <td>6.0</td>\n",
              "      <td>2010-12-01 08:26:00</td>\n",
              "      <td>3.39</td>\n",
              "      <td>17850.0</td>\n",
              "      <td>United Kingdom</td>\n",
              "      <td>Cancelled</td>\n",
              "      <td>Wednesday</td>\n",
              "      <td>48</td>\n",
              "      <td>8</td>\n",
              "      <td>Morning</td>\n",
              "      <td>December</td>\n",
              "      <td>Q3</td>\n",
              "    </tr>\n",
              "    <tr>\n",
              "      <th>2</th>\n",
              "      <td>536365.0</td>\n",
              "      <td>84406B</td>\n",
              "      <td>CREAM CUPID HEARTS COAT HANGER</td>\n",
              "      <td>8.0</td>\n",
              "      <td>2010-12-01 08:26:00</td>\n",
              "      <td>2.75</td>\n",
              "      <td>17850.0</td>\n",
              "      <td>United Kingdom</td>\n",
              "      <td>Cancelled</td>\n",
              "      <td>Wednesday</td>\n",
              "      <td>48</td>\n",
              "      <td>8</td>\n",
              "      <td>Morning</td>\n",
              "      <td>December</td>\n",
              "      <td>Q3</td>\n",
              "    </tr>\n",
              "    <tr>\n",
              "      <th>3</th>\n",
              "      <td>536365.0</td>\n",
              "      <td>84029G</td>\n",
              "      <td>KNITTED UNION FLAG HOT WATER BOTTLE</td>\n",
              "      <td>6.0</td>\n",
              "      <td>2010-12-01 08:26:00</td>\n",
              "      <td>3.39</td>\n",
              "      <td>17850.0</td>\n",
              "      <td>United Kingdom</td>\n",
              "      <td>Cancelled</td>\n",
              "      <td>Wednesday</td>\n",
              "      <td>48</td>\n",
              "      <td>8</td>\n",
              "      <td>Morning</td>\n",
              "      <td>December</td>\n",
              "      <td>Q3</td>\n",
              "    </tr>\n",
              "    <tr>\n",
              "      <th>4</th>\n",
              "      <td>536365.0</td>\n",
              "      <td>84029E</td>\n",
              "      <td>RED WOOLLY HOTTIE WHITE HEART.</td>\n",
              "      <td>6.0</td>\n",
              "      <td>2010-12-01 08:26:00</td>\n",
              "      <td>3.39</td>\n",
              "      <td>17850.0</td>\n",
              "      <td>United Kingdom</td>\n",
              "      <td>Cancelled</td>\n",
              "      <td>Wednesday</td>\n",
              "      <td>48</td>\n",
              "      <td>8</td>\n",
              "      <td>Morning</td>\n",
              "      <td>December</td>\n",
              "      <td>Q3</td>\n",
              "    </tr>\n",
              "  </tbody>\n",
              "</table>\n",
              "</div>\n",
              "      <button class=\"colab-df-convert\" onclick=\"convertToInteractive('df-a4cc3e2e-3abf-48d3-85b0-72b16fe6546a')\"\n",
              "              title=\"Convert this dataframe to an interactive table.\"\n",
              "              style=\"display:none;\">\n",
              "        \n",
              "  <svg xmlns=\"http://www.w3.org/2000/svg\" height=\"24px\"viewBox=\"0 0 24 24\"\n",
              "       width=\"24px\">\n",
              "    <path d=\"M0 0h24v24H0V0z\" fill=\"none\"/>\n",
              "    <path d=\"M18.56 5.44l.94 2.06.94-2.06 2.06-.94-2.06-.94-.94-2.06-.94 2.06-2.06.94zm-11 1L8.5 8.5l.94-2.06 2.06-.94-2.06-.94L8.5 2.5l-.94 2.06-2.06.94zm10 10l.94 2.06.94-2.06 2.06-.94-2.06-.94-.94-2.06-.94 2.06-2.06.94z\"/><path d=\"M17.41 7.96l-1.37-1.37c-.4-.4-.92-.59-1.43-.59-.52 0-1.04.2-1.43.59L10.3 9.45l-7.72 7.72c-.78.78-.78 2.05 0 2.83L4 21.41c.39.39.9.59 1.41.59.51 0 1.02-.2 1.41-.59l7.78-7.78 2.81-2.81c.8-.78.8-2.07 0-2.86zM5.41 20L4 18.59l7.72-7.72 1.47 1.35L5.41 20z\"/>\n",
              "  </svg>\n",
              "      </button>\n",
              "      \n",
              "  <style>\n",
              "    .colab-df-container {\n",
              "      display:flex;\n",
              "      flex-wrap:wrap;\n",
              "      gap: 12px;\n",
              "    }\n",
              "\n",
              "    .colab-df-convert {\n",
              "      background-color: #E8F0FE;\n",
              "      border: none;\n",
              "      border-radius: 50%;\n",
              "      cursor: pointer;\n",
              "      display: none;\n",
              "      fill: #1967D2;\n",
              "      height: 32px;\n",
              "      padding: 0 0 0 0;\n",
              "      width: 32px;\n",
              "    }\n",
              "\n",
              "    .colab-df-convert:hover {\n",
              "      background-color: #E2EBFA;\n",
              "      box-shadow: 0px 1px 2px rgba(60, 64, 67, 0.3), 0px 1px 3px 1px rgba(60, 64, 67, 0.15);\n",
              "      fill: #174EA6;\n",
              "    }\n",
              "\n",
              "    [theme=dark] .colab-df-convert {\n",
              "      background-color: #3B4455;\n",
              "      fill: #D2E3FC;\n",
              "    }\n",
              "\n",
              "    [theme=dark] .colab-df-convert:hover {\n",
              "      background-color: #434B5C;\n",
              "      box-shadow: 0px 1px 3px 1px rgba(0, 0, 0, 0.15);\n",
              "      filter: drop-shadow(0px 1px 2px rgba(0, 0, 0, 0.3));\n",
              "      fill: #FFFFFF;\n",
              "    }\n",
              "  </style>\n",
              "\n",
              "      <script>\n",
              "        const buttonEl =\n",
              "          document.querySelector('#df-a4cc3e2e-3abf-48d3-85b0-72b16fe6546a button.colab-df-convert');\n",
              "        buttonEl.style.display =\n",
              "          google.colab.kernel.accessAllowed ? 'block' : 'none';\n",
              "\n",
              "        async function convertToInteractive(key) {\n",
              "          const element = document.querySelector('#df-a4cc3e2e-3abf-48d3-85b0-72b16fe6546a');\n",
              "          const dataTable =\n",
              "            await google.colab.kernel.invokeFunction('convertToInteractive',\n",
              "                                                     [key], {});\n",
              "          if (!dataTable) return;\n",
              "\n",
              "          const docLinkHtml = 'Like what you see? Visit the ' +\n",
              "            '<a target=\"_blank\" href=https://colab.research.google.com/notebooks/data_table.ipynb>data table notebook</a>'\n",
              "            + ' to learn more about interactive tables.';\n",
              "          element.innerHTML = '';\n",
              "          dataTable['output_type'] = 'display_data';\n",
              "          await google.colab.output.renderOutput(dataTable, element);\n",
              "          const docLink = document.createElement('div');\n",
              "          docLink.innerHTML = docLinkHtml;\n",
              "          element.appendChild(docLink);\n",
              "        }\n",
              "      </script>\n",
              "    </div>\n",
              "  </div>\n",
              "  "
            ]
          },
          "metadata": {},
          "execution_count": 51
        }
      ],
      "source": [
        "df1.head()"
      ]
    },
    {
      "cell_type": "code",
      "execution_count": null,
      "id": "5069bc65",
      "metadata": {
        "id": "5069bc65",
        "outputId": "e47c2051-1115-4294-b6e2-7043ee47b232",
        "colab": {
          "base_uri": "https://localhost:8080/"
        }
      },
      "outputs": [
        {
          "output_type": "execute_result",
          "data": {
            "text/plain": [
              "Index(['InvoiceNo', 'StockCode', 'Description', 'Quantity', 'InvoiceDate',\n",
              "       'UnitPrice', 'CustomerID', 'Country', 'Order Status', 'Weekday',\n",
              "       'Week no', 'Hour', 'MAEN', 'Month', 'FY_QTR'],\n",
              "      dtype='object')"
            ]
          },
          "metadata": {},
          "execution_count": 52
        }
      ],
      "source": [
        "df1.columns"
      ]
    },
    {
      "cell_type": "code",
      "execution_count": null,
      "id": "d64f2857",
      "metadata": {
        "id": "d64f2857",
        "outputId": "f85e730f-de84-480b-e6ec-18ab97850997",
        "colab": {
          "base_uri": "https://localhost:8080/",
          "height": 143
        }
      },
      "outputs": [
        {
          "output_type": "execute_result",
          "data": {
            "text/plain": [
              "   Quantity  UnitPrice         Country Order Status    Weekday  Week no  \\\n",
              "0       6.0       2.55  United Kingdom    Cancelled  Wednesday       48   \n",
              "1       6.0       3.39  United Kingdom    Cancelled  Wednesday       48   \n",
              "2       8.0       2.75  United Kingdom    Cancelled  Wednesday       48   \n",
              "\n",
              "      MAEN FY_QTR  \n",
              "0  Morning     Q3  \n",
              "1  Morning     Q3  \n",
              "2  Morning     Q3  "
            ],
            "text/html": [
              "\n",
              "  <div id=\"df-94e8f24e-604f-430e-8b77-b994f5177720\">\n",
              "    <div class=\"colab-df-container\">\n",
              "      <div>\n",
              "<style scoped>\n",
              "    .dataframe tbody tr th:only-of-type {\n",
              "        vertical-align: middle;\n",
              "    }\n",
              "\n",
              "    .dataframe tbody tr th {\n",
              "        vertical-align: top;\n",
              "    }\n",
              "\n",
              "    .dataframe thead th {\n",
              "        text-align: right;\n",
              "    }\n",
              "</style>\n",
              "<table border=\"1\" class=\"dataframe\">\n",
              "  <thead>\n",
              "    <tr style=\"text-align: right;\">\n",
              "      <th></th>\n",
              "      <th>Quantity</th>\n",
              "      <th>UnitPrice</th>\n",
              "      <th>Country</th>\n",
              "      <th>Order Status</th>\n",
              "      <th>Weekday</th>\n",
              "      <th>Week no</th>\n",
              "      <th>MAEN</th>\n",
              "      <th>FY_QTR</th>\n",
              "    </tr>\n",
              "  </thead>\n",
              "  <tbody>\n",
              "    <tr>\n",
              "      <th>0</th>\n",
              "      <td>6.0</td>\n",
              "      <td>2.55</td>\n",
              "      <td>United Kingdom</td>\n",
              "      <td>Cancelled</td>\n",
              "      <td>Wednesday</td>\n",
              "      <td>48</td>\n",
              "      <td>Morning</td>\n",
              "      <td>Q3</td>\n",
              "    </tr>\n",
              "    <tr>\n",
              "      <th>1</th>\n",
              "      <td>6.0</td>\n",
              "      <td>3.39</td>\n",
              "      <td>United Kingdom</td>\n",
              "      <td>Cancelled</td>\n",
              "      <td>Wednesday</td>\n",
              "      <td>48</td>\n",
              "      <td>Morning</td>\n",
              "      <td>Q3</td>\n",
              "    </tr>\n",
              "    <tr>\n",
              "      <th>2</th>\n",
              "      <td>8.0</td>\n",
              "      <td>2.75</td>\n",
              "      <td>United Kingdom</td>\n",
              "      <td>Cancelled</td>\n",
              "      <td>Wednesday</td>\n",
              "      <td>48</td>\n",
              "      <td>Morning</td>\n",
              "      <td>Q3</td>\n",
              "    </tr>\n",
              "  </tbody>\n",
              "</table>\n",
              "</div>\n",
              "      <button class=\"colab-df-convert\" onclick=\"convertToInteractive('df-94e8f24e-604f-430e-8b77-b994f5177720')\"\n",
              "              title=\"Convert this dataframe to an interactive table.\"\n",
              "              style=\"display:none;\">\n",
              "        \n",
              "  <svg xmlns=\"http://www.w3.org/2000/svg\" height=\"24px\"viewBox=\"0 0 24 24\"\n",
              "       width=\"24px\">\n",
              "    <path d=\"M0 0h24v24H0V0z\" fill=\"none\"/>\n",
              "    <path d=\"M18.56 5.44l.94 2.06.94-2.06 2.06-.94-2.06-.94-.94-2.06-.94 2.06-2.06.94zm-11 1L8.5 8.5l.94-2.06 2.06-.94-2.06-.94L8.5 2.5l-.94 2.06-2.06.94zm10 10l.94 2.06.94-2.06 2.06-.94-2.06-.94-.94-2.06-.94 2.06-2.06.94z\"/><path d=\"M17.41 7.96l-1.37-1.37c-.4-.4-.92-.59-1.43-.59-.52 0-1.04.2-1.43.59L10.3 9.45l-7.72 7.72c-.78.78-.78 2.05 0 2.83L4 21.41c.39.39.9.59 1.41.59.51 0 1.02-.2 1.41-.59l7.78-7.78 2.81-2.81c.8-.78.8-2.07 0-2.86zM5.41 20L4 18.59l7.72-7.72 1.47 1.35L5.41 20z\"/>\n",
              "  </svg>\n",
              "      </button>\n",
              "      \n",
              "  <style>\n",
              "    .colab-df-container {\n",
              "      display:flex;\n",
              "      flex-wrap:wrap;\n",
              "      gap: 12px;\n",
              "    }\n",
              "\n",
              "    .colab-df-convert {\n",
              "      background-color: #E8F0FE;\n",
              "      border: none;\n",
              "      border-radius: 50%;\n",
              "      cursor: pointer;\n",
              "      display: none;\n",
              "      fill: #1967D2;\n",
              "      height: 32px;\n",
              "      padding: 0 0 0 0;\n",
              "      width: 32px;\n",
              "    }\n",
              "\n",
              "    .colab-df-convert:hover {\n",
              "      background-color: #E2EBFA;\n",
              "      box-shadow: 0px 1px 2px rgba(60, 64, 67, 0.3), 0px 1px 3px 1px rgba(60, 64, 67, 0.15);\n",
              "      fill: #174EA6;\n",
              "    }\n",
              "\n",
              "    [theme=dark] .colab-df-convert {\n",
              "      background-color: #3B4455;\n",
              "      fill: #D2E3FC;\n",
              "    }\n",
              "\n",
              "    [theme=dark] .colab-df-convert:hover {\n",
              "      background-color: #434B5C;\n",
              "      box-shadow: 0px 1px 3px 1px rgba(0, 0, 0, 0.15);\n",
              "      filter: drop-shadow(0px 1px 2px rgba(0, 0, 0, 0.3));\n",
              "      fill: #FFFFFF;\n",
              "    }\n",
              "  </style>\n",
              "\n",
              "      <script>\n",
              "        const buttonEl =\n",
              "          document.querySelector('#df-94e8f24e-604f-430e-8b77-b994f5177720 button.colab-df-convert');\n",
              "        buttonEl.style.display =\n",
              "          google.colab.kernel.accessAllowed ? 'block' : 'none';\n",
              "\n",
              "        async function convertToInteractive(key) {\n",
              "          const element = document.querySelector('#df-94e8f24e-604f-430e-8b77-b994f5177720');\n",
              "          const dataTable =\n",
              "            await google.colab.kernel.invokeFunction('convertToInteractive',\n",
              "                                                     [key], {});\n",
              "          if (!dataTable) return;\n",
              "\n",
              "          const docLinkHtml = 'Like what you see? Visit the ' +\n",
              "            '<a target=\"_blank\" href=https://colab.research.google.com/notebooks/data_table.ipynb>data table notebook</a>'\n",
              "            + ' to learn more about interactive tables.';\n",
              "          element.innerHTML = '';\n",
              "          dataTable['output_type'] = 'display_data';\n",
              "          await google.colab.output.renderOutput(dataTable, element);\n",
              "          const docLink = document.createElement('div');\n",
              "          docLink.innerHTML = docLinkHtml;\n",
              "          element.appendChild(docLink);\n",
              "        }\n",
              "      </script>\n",
              "    </div>\n",
              "  </div>\n",
              "  "
            ]
          },
          "metadata": {},
          "execution_count": 53
        }
      ],
      "source": [
        "df1.drop(['InvoiceNo', 'StockCode', 'Description', 'InvoiceDate', 'CustomerID', 'Hour', 'Month'], axis=1, inplace=True)\n",
        "df1.head(3)"
      ]
    },
    {
      "cell_type": "code",
      "execution_count": null,
      "id": "100b6c1a",
      "metadata": {
        "id": "100b6c1a",
        "outputId": "f200b1fe-c278-4f66-f510-1083c0ee6123",
        "colab": {
          "base_uri": "https://localhost:8080/"
        }
      },
      "outputs": [
        {
          "output_type": "execute_result",
          "data": {
            "text/plain": [
              "['Country', 'Order Status', 'Weekday', 'Week no', 'MAEN', 'FY_QTR']"
            ]
          },
          "metadata": {},
          "execution_count": 54
        }
      ],
      "source": [
        "col= ['Country', 'Order Status', 'Weekday', 'Week no', 'MAEN', 'FY_QTR']\n",
        "col"
      ]
    },
    {
      "cell_type": "code",
      "execution_count": null,
      "id": "62cc95a5",
      "metadata": {
        "id": "62cc95a5"
      },
      "outputs": [],
      "source": [
        "# --> we can do one hot encoding here\n",
        "\n",
        "df1.Country= df1.Country.astype('category')\n",
        "df1.Country= df1.Country.cat.codes\n",
        "df1= pd.get_dummies(df1, columns= ['Country'])"
      ]
    },
    {
      "cell_type": "code",
      "execution_count": null,
      "id": "992c5bf4",
      "metadata": {
        "id": "992c5bf4"
      },
      "outputs": [],
      "source": [
        "df1['Order Status'] = df1['Order Status'].astype('category')\n",
        "df1['Order Status']= df1['Order Status'].cat.codes\n",
        "df1= pd.get_dummies(df1, columns= ['Order Status'])\n",
        "\n",
        "df1.Weekday= df1.Weekday.astype('category')\n",
        "df1.Weekday= df1.Weekday.cat.codes\n",
        "df1= pd.get_dummies(df1, columns= ['Weekday'])\n",
        "\n",
        "df1['Week no'] = df1['Week no'].astype('category')\n",
        "df1['Week no']= df1['Week no'].cat.codes\n",
        "df1= pd.get_dummies(df1, columns= ['Week no'])\n",
        "\n",
        "df1.MAEN= df1.MAEN.astype('category')\n",
        "df1.MAEN= df1.MAEN.cat.codes\n",
        "df1= pd.get_dummies(df1, columns= ['MAEN'])\n",
        "\n",
        "df1.FY_QTR= df1.FY_QTR.astype('category')\n",
        "df1.FY_QTR= df1.FY_QTR.cat.codes\n",
        "df1= pd.get_dummies(df1, columns= ['FY_QTR'])"
      ]
    },
    {
      "cell_type": "code",
      "execution_count": null,
      "id": "b2724c95",
      "metadata": {
        "id": "b2724c95",
        "outputId": "d4db0459-20c8-4094-ab07-ded2e594dc79",
        "colab": {
          "base_uri": "https://localhost:8080/"
        }
      },
      "outputs": [
        {
          "output_type": "execute_result",
          "data": {
            "text/plain": [
              "Index(['Quantity', 'UnitPrice', 'Country_0', 'Country_1', 'Order Status_0',\n",
              "       'Weekday_0', 'Weekday_1', 'Weekday_2', 'Weekday_3', 'Weekday_4',\n",
              "       'Weekday_5', 'Week no_0', 'Week no_1', 'Week no_2', 'Week no_3',\n",
              "       'Week no_4', 'Week no_5', 'Week no_6', 'Week no_7', 'Week no_8',\n",
              "       'Week no_9', 'Week no_10', 'Week no_11', 'Week no_12', 'Week no_13',\n",
              "       'Week no_14', 'Week no_15', 'Week no_16', 'Week no_17', 'Week no_18',\n",
              "       'Week no_19', 'Week no_20', 'Week no_21', 'Week no_22', 'Week no_23',\n",
              "       'Week no_24', 'Week no_25', 'Week no_26', 'Week no_27', 'Week no_28',\n",
              "       'Week no_29', 'Week no_30', 'Week no_31', 'Week no_32', 'Week no_33',\n",
              "       'Week no_34', 'Week no_35', 'Week no_36', 'Week no_37', 'Week no_38',\n",
              "       'Week no_39', 'Week no_40', 'Week no_41', 'Week no_42', 'Week no_43',\n",
              "       'Week no_44', 'Week no_45', 'Week no_46', 'Week no_47', 'Week no_48',\n",
              "       'Week no_49', 'Week no_50', 'MAEN_0', 'MAEN_1', 'MAEN_2', 'FY_QTR_0',\n",
              "       'FY_QTR_1', 'FY_QTR_2', 'FY_QTR_3'],\n",
              "      dtype='object')"
            ]
          },
          "metadata": {},
          "execution_count": 57
        }
      ],
      "source": [
        "df1.columns"
      ]
    },
    {
      "cell_type": "code",
      "execution_count": null,
      "id": "03ede4c4",
      "metadata": {
        "id": "03ede4c4"
      },
      "outputs": [],
      "source": [
        "df1.drop(['Country_0', 'Order Status_0', 'Weekday_0', 'Week no_0', 'MAEN_0', 'FY_QTR_0'], axis=1, inplace=True)"
      ]
    },
    {
      "cell_type": "code",
      "execution_count": null,
      "id": "330b4e0f",
      "metadata": {
        "id": "330b4e0f",
        "outputId": "f962bc6f-e95a-4c8a-beed-56843ad5d9ad",
        "colab": {
          "base_uri": "https://localhost:8080/"
        }
      },
      "outputs": [
        {
          "output_type": "execute_result",
          "data": {
            "text/plain": [
              "Index(['Quantity', 'UnitPrice', 'Country_1', 'Weekday_1', 'Weekday_2',\n",
              "       'Weekday_3', 'Weekday_4', 'Weekday_5', 'Week no_1', 'Week no_2',\n",
              "       'Week no_3', 'Week no_4', 'Week no_5', 'Week no_6', 'Week no_7',\n",
              "       'Week no_8', 'Week no_9', 'Week no_10', 'Week no_11', 'Week no_12',\n",
              "       'Week no_13', 'Week no_14', 'Week no_15', 'Week no_16', 'Week no_17',\n",
              "       'Week no_18', 'Week no_19', 'Week no_20', 'Week no_21', 'Week no_22',\n",
              "       'Week no_23', 'Week no_24', 'Week no_25', 'Week no_26', 'Week no_27',\n",
              "       'Week no_28', 'Week no_29', 'Week no_30', 'Week no_31', 'Week no_32',\n",
              "       'Week no_33', 'Week no_34', 'Week no_35', 'Week no_36', 'Week no_37',\n",
              "       'Week no_38', 'Week no_39', 'Week no_40', 'Week no_41', 'Week no_42',\n",
              "       'Week no_43', 'Week no_44', 'Week no_45', 'Week no_46', 'Week no_47',\n",
              "       'Week no_48', 'Week no_49', 'Week no_50', 'MAEN_1', 'MAEN_2',\n",
              "       'FY_QTR_1', 'FY_QTR_2', 'FY_QTR_3'],\n",
              "      dtype='object')"
            ]
          },
          "metadata": {},
          "execution_count": 59
        }
      ],
      "source": [
        "df1.columns"
      ]
    },
    {
      "cell_type": "code",
      "execution_count": null,
      "id": "1b99d65e",
      "metadata": {
        "id": "1b99d65e",
        "outputId": "479d486f-405b-4e50-ffba-a24a221a79e3",
        "colab": {
          "base_uri": "https://localhost:8080/",
          "height": 254
        }
      },
      "outputs": [
        {
          "output_type": "execute_result",
          "data": {
            "text/plain": [
              "   Quantity  UnitPrice  Country_1  Weekday_1  Weekday_2  Weekday_3  Weekday_4  \\\n",
              "0       6.0       2.55          1          0          0          0          0   \n",
              "1       6.0       3.39          1          0          0          0          0   \n",
              "2       8.0       2.75          1          0          0          0          0   \n",
              "\n",
              "   Weekday_5  Week no_1  Week no_2  ...  Week no_46  Week no_47  Week no_48  \\\n",
              "0          1          0          0  ...           0           1           0   \n",
              "1          1          0          0  ...           0           1           0   \n",
              "2          1          0          0  ...           0           1           0   \n",
              "\n",
              "   Week no_49  Week no_50  MAEN_1  MAEN_2  FY_QTR_1  FY_QTR_2  FY_QTR_3  \n",
              "0           0           0       0       1         0         1         0  \n",
              "1           0           0       0       1         0         1         0  \n",
              "2           0           0       0       1         0         1         0  \n",
              "\n",
              "[3 rows x 63 columns]"
            ],
            "text/html": [
              "\n",
              "  <div id=\"df-f99c370b-422d-43e8-a48c-308550d59206\">\n",
              "    <div class=\"colab-df-container\">\n",
              "      <div>\n",
              "<style scoped>\n",
              "    .dataframe tbody tr th:only-of-type {\n",
              "        vertical-align: middle;\n",
              "    }\n",
              "\n",
              "    .dataframe tbody tr th {\n",
              "        vertical-align: top;\n",
              "    }\n",
              "\n",
              "    .dataframe thead th {\n",
              "        text-align: right;\n",
              "    }\n",
              "</style>\n",
              "<table border=\"1\" class=\"dataframe\">\n",
              "  <thead>\n",
              "    <tr style=\"text-align: right;\">\n",
              "      <th></th>\n",
              "      <th>Quantity</th>\n",
              "      <th>UnitPrice</th>\n",
              "      <th>Country_1</th>\n",
              "      <th>Weekday_1</th>\n",
              "      <th>Weekday_2</th>\n",
              "      <th>Weekday_3</th>\n",
              "      <th>Weekday_4</th>\n",
              "      <th>Weekday_5</th>\n",
              "      <th>Week no_1</th>\n",
              "      <th>Week no_2</th>\n",
              "      <th>...</th>\n",
              "      <th>Week no_46</th>\n",
              "      <th>Week no_47</th>\n",
              "      <th>Week no_48</th>\n",
              "      <th>Week no_49</th>\n",
              "      <th>Week no_50</th>\n",
              "      <th>MAEN_1</th>\n",
              "      <th>MAEN_2</th>\n",
              "      <th>FY_QTR_1</th>\n",
              "      <th>FY_QTR_2</th>\n",
              "      <th>FY_QTR_3</th>\n",
              "    </tr>\n",
              "  </thead>\n",
              "  <tbody>\n",
              "    <tr>\n",
              "      <th>0</th>\n",
              "      <td>6.0</td>\n",
              "      <td>2.55</td>\n",
              "      <td>1</td>\n",
              "      <td>0</td>\n",
              "      <td>0</td>\n",
              "      <td>0</td>\n",
              "      <td>0</td>\n",
              "      <td>1</td>\n",
              "      <td>0</td>\n",
              "      <td>0</td>\n",
              "      <td>...</td>\n",
              "      <td>0</td>\n",
              "      <td>1</td>\n",
              "      <td>0</td>\n",
              "      <td>0</td>\n",
              "      <td>0</td>\n",
              "      <td>0</td>\n",
              "      <td>1</td>\n",
              "      <td>0</td>\n",
              "      <td>1</td>\n",
              "      <td>0</td>\n",
              "    </tr>\n",
              "    <tr>\n",
              "      <th>1</th>\n",
              "      <td>6.0</td>\n",
              "      <td>3.39</td>\n",
              "      <td>1</td>\n",
              "      <td>0</td>\n",
              "      <td>0</td>\n",
              "      <td>0</td>\n",
              "      <td>0</td>\n",
              "      <td>1</td>\n",
              "      <td>0</td>\n",
              "      <td>0</td>\n",
              "      <td>...</td>\n",
              "      <td>0</td>\n",
              "      <td>1</td>\n",
              "      <td>0</td>\n",
              "      <td>0</td>\n",
              "      <td>0</td>\n",
              "      <td>0</td>\n",
              "      <td>1</td>\n",
              "      <td>0</td>\n",
              "      <td>1</td>\n",
              "      <td>0</td>\n",
              "    </tr>\n",
              "    <tr>\n",
              "      <th>2</th>\n",
              "      <td>8.0</td>\n",
              "      <td>2.75</td>\n",
              "      <td>1</td>\n",
              "      <td>0</td>\n",
              "      <td>0</td>\n",
              "      <td>0</td>\n",
              "      <td>0</td>\n",
              "      <td>1</td>\n",
              "      <td>0</td>\n",
              "      <td>0</td>\n",
              "      <td>...</td>\n",
              "      <td>0</td>\n",
              "      <td>1</td>\n",
              "      <td>0</td>\n",
              "      <td>0</td>\n",
              "      <td>0</td>\n",
              "      <td>0</td>\n",
              "      <td>1</td>\n",
              "      <td>0</td>\n",
              "      <td>1</td>\n",
              "      <td>0</td>\n",
              "    </tr>\n",
              "  </tbody>\n",
              "</table>\n",
              "<p>3 rows × 63 columns</p>\n",
              "</div>\n",
              "      <button class=\"colab-df-convert\" onclick=\"convertToInteractive('df-f99c370b-422d-43e8-a48c-308550d59206')\"\n",
              "              title=\"Convert this dataframe to an interactive table.\"\n",
              "              style=\"display:none;\">\n",
              "        \n",
              "  <svg xmlns=\"http://www.w3.org/2000/svg\" height=\"24px\"viewBox=\"0 0 24 24\"\n",
              "       width=\"24px\">\n",
              "    <path d=\"M0 0h24v24H0V0z\" fill=\"none\"/>\n",
              "    <path d=\"M18.56 5.44l.94 2.06.94-2.06 2.06-.94-2.06-.94-.94-2.06-.94 2.06-2.06.94zm-11 1L8.5 8.5l.94-2.06 2.06-.94-2.06-.94L8.5 2.5l-.94 2.06-2.06.94zm10 10l.94 2.06.94-2.06 2.06-.94-2.06-.94-.94-2.06-.94 2.06-2.06.94z\"/><path d=\"M17.41 7.96l-1.37-1.37c-.4-.4-.92-.59-1.43-.59-.52 0-1.04.2-1.43.59L10.3 9.45l-7.72 7.72c-.78.78-.78 2.05 0 2.83L4 21.41c.39.39.9.59 1.41.59.51 0 1.02-.2 1.41-.59l7.78-7.78 2.81-2.81c.8-.78.8-2.07 0-2.86zM5.41 20L4 18.59l7.72-7.72 1.47 1.35L5.41 20z\"/>\n",
              "  </svg>\n",
              "      </button>\n",
              "      \n",
              "  <style>\n",
              "    .colab-df-container {\n",
              "      display:flex;\n",
              "      flex-wrap:wrap;\n",
              "      gap: 12px;\n",
              "    }\n",
              "\n",
              "    .colab-df-convert {\n",
              "      background-color: #E8F0FE;\n",
              "      border: none;\n",
              "      border-radius: 50%;\n",
              "      cursor: pointer;\n",
              "      display: none;\n",
              "      fill: #1967D2;\n",
              "      height: 32px;\n",
              "      padding: 0 0 0 0;\n",
              "      width: 32px;\n",
              "    }\n",
              "\n",
              "    .colab-df-convert:hover {\n",
              "      background-color: #E2EBFA;\n",
              "      box-shadow: 0px 1px 2px rgba(60, 64, 67, 0.3), 0px 1px 3px 1px rgba(60, 64, 67, 0.15);\n",
              "      fill: #174EA6;\n",
              "    }\n",
              "\n",
              "    [theme=dark] .colab-df-convert {\n",
              "      background-color: #3B4455;\n",
              "      fill: #D2E3FC;\n",
              "    }\n",
              "\n",
              "    [theme=dark] .colab-df-convert:hover {\n",
              "      background-color: #434B5C;\n",
              "      box-shadow: 0px 1px 3px 1px rgba(0, 0, 0, 0.15);\n",
              "      filter: drop-shadow(0px 1px 2px rgba(0, 0, 0, 0.3));\n",
              "      fill: #FFFFFF;\n",
              "    }\n",
              "  </style>\n",
              "\n",
              "      <script>\n",
              "        const buttonEl =\n",
              "          document.querySelector('#df-f99c370b-422d-43e8-a48c-308550d59206 button.colab-df-convert');\n",
              "        buttonEl.style.display =\n",
              "          google.colab.kernel.accessAllowed ? 'block' : 'none';\n",
              "\n",
              "        async function convertToInteractive(key) {\n",
              "          const element = document.querySelector('#df-f99c370b-422d-43e8-a48c-308550d59206');\n",
              "          const dataTable =\n",
              "            await google.colab.kernel.invokeFunction('convertToInteractive',\n",
              "                                                     [key], {});\n",
              "          if (!dataTable) return;\n",
              "\n",
              "          const docLinkHtml = 'Like what you see? Visit the ' +\n",
              "            '<a target=\"_blank\" href=https://colab.research.google.com/notebooks/data_table.ipynb>data table notebook</a>'\n",
              "            + ' to learn more about interactive tables.';\n",
              "          element.innerHTML = '';\n",
              "          dataTable['output_type'] = 'display_data';\n",
              "          await google.colab.output.renderOutput(dataTable, element);\n",
              "          const docLink = document.createElement('div');\n",
              "          docLink.innerHTML = docLinkHtml;\n",
              "          element.appendChild(docLink);\n",
              "        }\n",
              "      </script>\n",
              "    </div>\n",
              "  </div>\n",
              "  "
            ]
          },
          "metadata": {},
          "execution_count": 60
        }
      ],
      "source": [
        "df1.head(3)"
      ]
    },
    {
      "cell_type": "markdown",
      "id": "ba77cd70",
      "metadata": {
        "id": "ba77cd70"
      },
      "source": [
        "##### Scaling"
      ]
    },
    {
      "cell_type": "markdown",
      "id": "d7bfdf7f",
      "metadata": {
        "id": "d7bfdf7f"
      },
      "source": [
        "###### Case-1: Standard Scaler"
      ]
    },
    {
      "cell_type": "code",
      "execution_count": null,
      "id": "8e2e0f94",
      "metadata": {
        "id": "8e2e0f94"
      },
      "outputs": [],
      "source": [
        "from sklearn.preprocessing import StandardScaler\n",
        "std = StandardScaler()\n",
        "std.fit(df1)\n",
        "std_trans= std.transform(df1)"
      ]
    },
    {
      "cell_type": "code",
      "execution_count": null,
      "id": "4f7d5c1a",
      "metadata": {
        "id": "4f7d5c1a",
        "outputId": "e14927c6-c1ee-4b9c-8076-3c421df2d83b",
        "colab": {
          "base_uri": "https://localhost:8080/",
          "height": 317
        }
      },
      "outputs": [
        {
          "output_type": "execute_result",
          "data": {
            "text/plain": [
              "   Quantity  UnitPrice  Country_1  Weekday_1  Weekday_2  Weekday_3  Weekday_4  \\\n",
              "0 -0.016289  -0.021301    0.30612  -0.461381  -0.367161  -0.486917  -0.480966   \n",
              "1 -0.016289  -0.012620    0.30612  -0.461381  -0.367161  -0.486917  -0.480966   \n",
              "2 -0.007118  -0.019234    0.30612  -0.461381  -0.367161  -0.486917  -0.480966   \n",
              "3 -0.016289  -0.012620    0.30612  -0.461381  -0.367161  -0.486917  -0.480966   \n",
              "4 -0.016289  -0.012620    0.30612  -0.461381  -0.367161  -0.486917  -0.480966   \n",
              "\n",
              "   Weekday_5  Week no_1  Week no_2  ...  Week no_46  Week no_47  Week no_48  \\\n",
              "0   2.174982  -0.128776  -0.132826  ...   -0.195503    4.200945   -0.259921   \n",
              "1   2.174982  -0.128776  -0.132826  ...   -0.195503    4.200945   -0.259921   \n",
              "2   2.174982  -0.128776  -0.132826  ...   -0.195503    4.200945   -0.259921   \n",
              "3   2.174982  -0.128776  -0.132826  ...   -0.195503    4.200945   -0.259921   \n",
              "4   2.174982  -0.128776  -0.132826  ...   -0.195503    4.200945   -0.259921   \n",
              "\n",
              "   Week no_49  Week no_50    MAEN_1    MAEN_2  FY_QTR_1  FY_QTR_2  FY_QTR_3  \n",
              "0   -0.144914   -0.092557 -0.286319  1.613596 -0.547643  1.240445 -0.474539  \n",
              "1   -0.144914   -0.092557 -0.286319  1.613596 -0.547643  1.240445 -0.474539  \n",
              "2   -0.144914   -0.092557 -0.286319  1.613596 -0.547643  1.240445 -0.474539  \n",
              "3   -0.144914   -0.092557 -0.286319  1.613596 -0.547643  1.240445 -0.474539  \n",
              "4   -0.144914   -0.092557 -0.286319  1.613596 -0.547643  1.240445 -0.474539  \n",
              "\n",
              "[5 rows x 63 columns]"
            ],
            "text/html": [
              "\n",
              "  <div id=\"df-b82e896b-c4af-4451-93c7-4eb4b3bf3680\">\n",
              "    <div class=\"colab-df-container\">\n",
              "      <div>\n",
              "<style scoped>\n",
              "    .dataframe tbody tr th:only-of-type {\n",
              "        vertical-align: middle;\n",
              "    }\n",
              "\n",
              "    .dataframe tbody tr th {\n",
              "        vertical-align: top;\n",
              "    }\n",
              "\n",
              "    .dataframe thead th {\n",
              "        text-align: right;\n",
              "    }\n",
              "</style>\n",
              "<table border=\"1\" class=\"dataframe\">\n",
              "  <thead>\n",
              "    <tr style=\"text-align: right;\">\n",
              "      <th></th>\n",
              "      <th>Quantity</th>\n",
              "      <th>UnitPrice</th>\n",
              "      <th>Country_1</th>\n",
              "      <th>Weekday_1</th>\n",
              "      <th>Weekday_2</th>\n",
              "      <th>Weekday_3</th>\n",
              "      <th>Weekday_4</th>\n",
              "      <th>Weekday_5</th>\n",
              "      <th>Week no_1</th>\n",
              "      <th>Week no_2</th>\n",
              "      <th>...</th>\n",
              "      <th>Week no_46</th>\n",
              "      <th>Week no_47</th>\n",
              "      <th>Week no_48</th>\n",
              "      <th>Week no_49</th>\n",
              "      <th>Week no_50</th>\n",
              "      <th>MAEN_1</th>\n",
              "      <th>MAEN_2</th>\n",
              "      <th>FY_QTR_1</th>\n",
              "      <th>FY_QTR_2</th>\n",
              "      <th>FY_QTR_3</th>\n",
              "    </tr>\n",
              "  </thead>\n",
              "  <tbody>\n",
              "    <tr>\n",
              "      <th>0</th>\n",
              "      <td>-0.016289</td>\n",
              "      <td>-0.021301</td>\n",
              "      <td>0.30612</td>\n",
              "      <td>-0.461381</td>\n",
              "      <td>-0.367161</td>\n",
              "      <td>-0.486917</td>\n",
              "      <td>-0.480966</td>\n",
              "      <td>2.174982</td>\n",
              "      <td>-0.128776</td>\n",
              "      <td>-0.132826</td>\n",
              "      <td>...</td>\n",
              "      <td>-0.195503</td>\n",
              "      <td>4.200945</td>\n",
              "      <td>-0.259921</td>\n",
              "      <td>-0.144914</td>\n",
              "      <td>-0.092557</td>\n",
              "      <td>-0.286319</td>\n",
              "      <td>1.613596</td>\n",
              "      <td>-0.547643</td>\n",
              "      <td>1.240445</td>\n",
              "      <td>-0.474539</td>\n",
              "    </tr>\n",
              "    <tr>\n",
              "      <th>1</th>\n",
              "      <td>-0.016289</td>\n",
              "      <td>-0.012620</td>\n",
              "      <td>0.30612</td>\n",
              "      <td>-0.461381</td>\n",
              "      <td>-0.367161</td>\n",
              "      <td>-0.486917</td>\n",
              "      <td>-0.480966</td>\n",
              "      <td>2.174982</td>\n",
              "      <td>-0.128776</td>\n",
              "      <td>-0.132826</td>\n",
              "      <td>...</td>\n",
              "      <td>-0.195503</td>\n",
              "      <td>4.200945</td>\n",
              "      <td>-0.259921</td>\n",
              "      <td>-0.144914</td>\n",
              "      <td>-0.092557</td>\n",
              "      <td>-0.286319</td>\n",
              "      <td>1.613596</td>\n",
              "      <td>-0.547643</td>\n",
              "      <td>1.240445</td>\n",
              "      <td>-0.474539</td>\n",
              "    </tr>\n",
              "    <tr>\n",
              "      <th>2</th>\n",
              "      <td>-0.007118</td>\n",
              "      <td>-0.019234</td>\n",
              "      <td>0.30612</td>\n",
              "      <td>-0.461381</td>\n",
              "      <td>-0.367161</td>\n",
              "      <td>-0.486917</td>\n",
              "      <td>-0.480966</td>\n",
              "      <td>2.174982</td>\n",
              "      <td>-0.128776</td>\n",
              "      <td>-0.132826</td>\n",
              "      <td>...</td>\n",
              "      <td>-0.195503</td>\n",
              "      <td>4.200945</td>\n",
              "      <td>-0.259921</td>\n",
              "      <td>-0.144914</td>\n",
              "      <td>-0.092557</td>\n",
              "      <td>-0.286319</td>\n",
              "      <td>1.613596</td>\n",
              "      <td>-0.547643</td>\n",
              "      <td>1.240445</td>\n",
              "      <td>-0.474539</td>\n",
              "    </tr>\n",
              "    <tr>\n",
              "      <th>3</th>\n",
              "      <td>-0.016289</td>\n",
              "      <td>-0.012620</td>\n",
              "      <td>0.30612</td>\n",
              "      <td>-0.461381</td>\n",
              "      <td>-0.367161</td>\n",
              "      <td>-0.486917</td>\n",
              "      <td>-0.480966</td>\n",
              "      <td>2.174982</td>\n",
              "      <td>-0.128776</td>\n",
              "      <td>-0.132826</td>\n",
              "      <td>...</td>\n",
              "      <td>-0.195503</td>\n",
              "      <td>4.200945</td>\n",
              "      <td>-0.259921</td>\n",
              "      <td>-0.144914</td>\n",
              "      <td>-0.092557</td>\n",
              "      <td>-0.286319</td>\n",
              "      <td>1.613596</td>\n",
              "      <td>-0.547643</td>\n",
              "      <td>1.240445</td>\n",
              "      <td>-0.474539</td>\n",
              "    </tr>\n",
              "    <tr>\n",
              "      <th>4</th>\n",
              "      <td>-0.016289</td>\n",
              "      <td>-0.012620</td>\n",
              "      <td>0.30612</td>\n",
              "      <td>-0.461381</td>\n",
              "      <td>-0.367161</td>\n",
              "      <td>-0.486917</td>\n",
              "      <td>-0.480966</td>\n",
              "      <td>2.174982</td>\n",
              "      <td>-0.128776</td>\n",
              "      <td>-0.132826</td>\n",
              "      <td>...</td>\n",
              "      <td>-0.195503</td>\n",
              "      <td>4.200945</td>\n",
              "      <td>-0.259921</td>\n",
              "      <td>-0.144914</td>\n",
              "      <td>-0.092557</td>\n",
              "      <td>-0.286319</td>\n",
              "      <td>1.613596</td>\n",
              "      <td>-0.547643</td>\n",
              "      <td>1.240445</td>\n",
              "      <td>-0.474539</td>\n",
              "    </tr>\n",
              "  </tbody>\n",
              "</table>\n",
              "<p>5 rows × 63 columns</p>\n",
              "</div>\n",
              "      <button class=\"colab-df-convert\" onclick=\"convertToInteractive('df-b82e896b-c4af-4451-93c7-4eb4b3bf3680')\"\n",
              "              title=\"Convert this dataframe to an interactive table.\"\n",
              "              style=\"display:none;\">\n",
              "        \n",
              "  <svg xmlns=\"http://www.w3.org/2000/svg\" height=\"24px\"viewBox=\"0 0 24 24\"\n",
              "       width=\"24px\">\n",
              "    <path d=\"M0 0h24v24H0V0z\" fill=\"none\"/>\n",
              "    <path d=\"M18.56 5.44l.94 2.06.94-2.06 2.06-.94-2.06-.94-.94-2.06-.94 2.06-2.06.94zm-11 1L8.5 8.5l.94-2.06 2.06-.94-2.06-.94L8.5 2.5l-.94 2.06-2.06.94zm10 10l.94 2.06.94-2.06 2.06-.94-2.06-.94-.94-2.06-.94 2.06-2.06.94z\"/><path d=\"M17.41 7.96l-1.37-1.37c-.4-.4-.92-.59-1.43-.59-.52 0-1.04.2-1.43.59L10.3 9.45l-7.72 7.72c-.78.78-.78 2.05 0 2.83L4 21.41c.39.39.9.59 1.41.59.51 0 1.02-.2 1.41-.59l7.78-7.78 2.81-2.81c.8-.78.8-2.07 0-2.86zM5.41 20L4 18.59l7.72-7.72 1.47 1.35L5.41 20z\"/>\n",
              "  </svg>\n",
              "      </button>\n",
              "      \n",
              "  <style>\n",
              "    .colab-df-container {\n",
              "      display:flex;\n",
              "      flex-wrap:wrap;\n",
              "      gap: 12px;\n",
              "    }\n",
              "\n",
              "    .colab-df-convert {\n",
              "      background-color: #E8F0FE;\n",
              "      border: none;\n",
              "      border-radius: 50%;\n",
              "      cursor: pointer;\n",
              "      display: none;\n",
              "      fill: #1967D2;\n",
              "      height: 32px;\n",
              "      padding: 0 0 0 0;\n",
              "      width: 32px;\n",
              "    }\n",
              "\n",
              "    .colab-df-convert:hover {\n",
              "      background-color: #E2EBFA;\n",
              "      box-shadow: 0px 1px 2px rgba(60, 64, 67, 0.3), 0px 1px 3px 1px rgba(60, 64, 67, 0.15);\n",
              "      fill: #174EA6;\n",
              "    }\n",
              "\n",
              "    [theme=dark] .colab-df-convert {\n",
              "      background-color: #3B4455;\n",
              "      fill: #D2E3FC;\n",
              "    }\n",
              "\n",
              "    [theme=dark] .colab-df-convert:hover {\n",
              "      background-color: #434B5C;\n",
              "      box-shadow: 0px 1px 3px 1px rgba(0, 0, 0, 0.15);\n",
              "      filter: drop-shadow(0px 1px 2px rgba(0, 0, 0, 0.3));\n",
              "      fill: #FFFFFF;\n",
              "    }\n",
              "  </style>\n",
              "\n",
              "      <script>\n",
              "        const buttonEl =\n",
              "          document.querySelector('#df-b82e896b-c4af-4451-93c7-4eb4b3bf3680 button.colab-df-convert');\n",
              "        buttonEl.style.display =\n",
              "          google.colab.kernel.accessAllowed ? 'block' : 'none';\n",
              "\n",
              "        async function convertToInteractive(key) {\n",
              "          const element = document.querySelector('#df-b82e896b-c4af-4451-93c7-4eb4b3bf3680');\n",
              "          const dataTable =\n",
              "            await google.colab.kernel.invokeFunction('convertToInteractive',\n",
              "                                                     [key], {});\n",
              "          if (!dataTable) return;\n",
              "\n",
              "          const docLinkHtml = 'Like what you see? Visit the ' +\n",
              "            '<a target=\"_blank\" href=https://colab.research.google.com/notebooks/data_table.ipynb>data table notebook</a>'\n",
              "            + ' to learn more about interactive tables.';\n",
              "          element.innerHTML = '';\n",
              "          dataTable['output_type'] = 'display_data';\n",
              "          await google.colab.output.renderOutput(dataTable, element);\n",
              "          const docLink = document.createElement('div');\n",
              "          docLink.innerHTML = docLinkHtml;\n",
              "          element.appendChild(docLink);\n",
              "        }\n",
              "      </script>\n",
              "    </div>\n",
              "  </div>\n",
              "  "
            ]
          },
          "metadata": {},
          "execution_count": 62
        }
      ],
      "source": [
        "df_std= pd.DataFrame(std_trans, columns=df1.columns)\n",
        "df_std.head()"
      ]
    },
    {
      "cell_type": "code",
      "execution_count": null,
      "id": "f363ae45",
      "metadata": {
        "id": "f363ae45",
        "outputId": "0c351095-41f6-4690-f195-ab28d8003010",
        "colab": {
          "base_uri": "https://localhost:8080/",
          "height": 312
        }
      },
      "outputs": [
        {
          "output_type": "execute_result",
          "data": {
            "text/plain": [
              "Text(0, 0.5, 'WCSS(within clusters sum-of-squares)')"
            ]
          },
          "metadata": {},
          "execution_count": 63
        },
        {
          "output_type": "display_data",
          "data": {
            "text/plain": [
              "<Figure size 432x288 with 1 Axes>"
            ],
            "image/png": "[encoded data removed]"
          },
          "metadata": {
            "needs_background": "light"
          }
        }
      ],
      "source": [
        "from sklearn.cluster import KMeans\n",
        "                                             # to find k- value ----->>  # first apply general K-means algo to array\n",
        "wcss =[]                                                                 # wcss = Within-Cluster-Sum-of-Squares\n",
        "for i in range(1,15):    \n",
        "    kmeans= KMeans(n_clusters=i, init='k-means++', random_state=101)\n",
        "    kmeans.fit(df_std)                                                        # fitting Kmeans algo to array\n",
        "    wcss.append(kmeans.inertia_)\n",
        "    \n",
        "plt.plot(range(1,15),wcss) \n",
        "plt.title('The Elbow Method plot')\n",
        "plt.xlabel('K-value or number of clusters')\n",
        "plt.ylabel('WCSS(within clusters sum-of-squares)')"
      ]
    },
    {
      "cell_type": "code",
      "execution_count": null,
      "id": "919b118e",
      "metadata": {
        "id": "919b118e",
        "outputId": "b90684a8-9528-465f-e47a-b633249b0c17",
        "colab": {
          "base_uri": "https://localhost:8080/",
          "height": 340
        }
      },
      "outputs": [
        {
          "output_type": "error",
          "ename": "ModuleNotFoundError",
          "evalue": "ignored",
          "traceback": [
            "\u001b[0;31m---------------------------------------------------------------------------\u001b[0m",
            "\u001b[0;31mModuleNotFoundError\u001b[0m                       Traceback (most recent call last)",
            "\u001b[0;32m<ipython-input-64-b94a84e1b33d>\u001b[0m in \u001b[0;36m<module>\u001b[0;34m()\u001b[0m\n\u001b[0;32m----> 1\u001b[0;31m \u001b[0;32mfrom\u001b[0m \u001b[0mkneed\u001b[0m \u001b[0;32mimport\u001b[0m \u001b[0mKneeLocator\u001b[0m\u001b[0;34m\u001b[0m\u001b[0;34m\u001b[0m\u001b[0m\n\u001b[0m\u001b[1;32m      2\u001b[0m \u001b[0mkn1\u001b[0m \u001b[0;34m=\u001b[0m \u001b[0mKneeLocator\u001b[0m\u001b[0;34m(\u001b[0m\u001b[0mrange\u001b[0m\u001b[0;34m(\u001b[0m\u001b[0;36m1\u001b[0m\u001b[0;34m,\u001b[0m\u001b[0;36m15\u001b[0m\u001b[0;34m)\u001b[0m\u001b[0;34m,\u001b[0m \u001b[0mwcss\u001b[0m\u001b[0;34m,\u001b[0m \u001b[0mcurve\u001b[0m \u001b[0;34m=\u001b[0m \u001b[0;34m'convex'\u001b[0m\u001b[0;34m,\u001b[0m \u001b[0mdirection\u001b[0m\u001b[0;34m=\u001b[0m\u001b[0;34m'decreasing'\u001b[0m\u001b[0;34m)\u001b[0m\u001b[0;34m\u001b[0m\u001b[0;34m\u001b[0m\u001b[0m\n\u001b[1;32m      3\u001b[0m \u001b[0mprint\u001b[0m\u001b[0;34m(\u001b[0m\u001b[0;34m'Best k-value from Elbow curve: '\u001b[0m\u001b[0;34m,\u001b[0m\u001b[0mkn1\u001b[0m\u001b[0;34m.\u001b[0m\u001b[0mknee\u001b[0m\u001b[0;34m)\u001b[0m\u001b[0;34m\u001b[0m\u001b[0;34m\u001b[0m\u001b[0m\n",
            "\u001b[0;31mModuleNotFoundError\u001b[0m: No module named 'kneed'",
            "",
            "\u001b[0;31m---------------------------------------------------------------------------\u001b[0;32m\nNOTE: If your import is failing due to a missing package, you can\nmanually install dependencies using either !pip or !apt.\n\nTo view examples of installing some common dependencies, click the\n\"Open Examples\" button below.\n\u001b[0;31m---------------------------------------------------------------------------\u001b[0m\n"
          ],
          "errorDetails": {
            "actions": [
              {
                "action": "open_url",
                "actionText": "Open Examples",
                "url": "/notebooks/snippets/importing_libraries.ipynb"
              }
            ]
          }
        }
      ],
      "source": [
        "from kneed import KneeLocator\n",
        "kn1 = KneeLocator(range(1,15), wcss, curve = 'convex', direction='decreasing')\n",
        "print('Best k-value from Elbow curve: ',kn1.knee)"
      ]
    },
    {
      "cell_type": "markdown",
      "id": "0732866e",
      "metadata": {
        "id": "0732866e"
      },
      "source": [
        "- Insight : from elbow point its more like linear--> discard it\n",
        "          : Try minmax scaler\n",
        "\n",
        "##### Case 2: minmax scaler"
      ]
    },
    {
      "cell_type": "code",
      "execution_count": null,
      "id": "e33c6211",
      "metadata": {
        "id": "e33c6211"
      },
      "outputs": [],
      "source": [
        "from sklearn.preprocessing import MinMaxScaler\n",
        "mm= MinMaxScaler()\n",
        "mm.fit(df1)\n",
        "mm_trans = mm.transform(df1)"
      ]
    },
    {
      "cell_type": "code",
      "execution_count": null,
      "id": "a69cb501",
      "metadata": {
        "id": "a69cb501"
      },
      "outputs": [],
      "source": [
        "df_mm= pd.DataFrame(mm_trans, columns=df1.columns)\n",
        "df_mm.head()"
      ]
    },
    {
      "cell_type": "code",
      "execution_count": null,
      "id": "3141aea0",
      "metadata": {
        "id": "3141aea0"
      },
      "outputs": [],
      "source": [
        "from sklearn.cluster import KMeans\n",
        "wcss_mm =[]                                                                 # wcss = Within-Cluster-Sum-of-Squares\n",
        "for i in range(1,15):    \n",
        "    kmeans_mm= KMeans(n_clusters=i, init='k-means++', random_state=101)\n",
        "    kmeans_mm.fit(df_mm)                                                        # fitting Kmeans algo to array\n",
        "    wcss_mm.append(kmeans_mm.inertia_)\n",
        "    \n",
        "plt.plot(range(1,15),wcss_mm) \n",
        "plt.title('The Elbow Method plot')\n",
        "plt.xlabel('K-value or number of clusters')\n",
        "plt.ylabel('WCSS(within clusters sum-of-squares)')"
      ]
    },
    {
      "cell_type": "code",
      "execution_count": null,
      "id": "be42d423",
      "metadata": {
        "id": "be42d423"
      },
      "outputs": [],
      "source": [
        "from kneed import KneeLocator\n",
        "kn = KneeLocator(range(1,15), wcss_mm, curve = 'convex', direction='decreasing')\n",
        "print('Best k-value from Elbow curve: ',kn.knee)"
      ]
    },
    {
      "cell_type": "markdown",
      "id": "31b1b098",
      "metadata": {
        "id": "31b1b098"
      },
      "source": [
        "##### K-Means Clustering by Kmeans & Cluster Information"
      ]
    },
    {
      "cell_type": "code",
      "execution_count": null,
      "id": "47d4826e",
      "metadata": {
        "id": "47d4826e"
      },
      "outputs": [],
      "source": [
        "# Fitting K-Means to the dataset\n",
        "\n",
        "kmeans_f = KMeans(n_clusters = 5, random_state =101)\n",
        "y_kmeans = kmeans_f.fit_predict(df_mm)\n",
        "\n",
        "#beginning of  the cluster numbering with 1 instead of 0\n",
        "y_kmeans1=y_kmeans\n",
        "y_kmeans1=y_kmeans+1       # to simplicity in reading, that's all, nothing much here\n",
        "\n",
        "# New Dataframe called cluster\n",
        "cluster = pd.DataFrame(y_kmeans1)\n",
        "\n",
        "# Adding cluster to the Dataset\n",
        "df_mm['cluster'] = cluster"
      ]
    },
    {
      "cell_type": "code",
      "execution_count": null,
      "id": "622a28be",
      "metadata": {
        "id": "622a28be"
      },
      "outputs": [],
      "source": [
        "df_mm"
      ]
    },
    {
      "cell_type": "code",
      "execution_count": null,
      "id": "9ec71c01",
      "metadata": {
        "id": "9ec71c01"
      },
      "outputs": [],
      "source": [
        "df_mm.cluster.value_counts()"
      ]
    },
    {
      "cell_type": "markdown",
      "id": "bc19212a",
      "metadata": {
        "id": "bc19212a"
      },
      "source": [
        "##### Adding clusters to main data base"
      ]
    },
    {
      "cell_type": "code",
      "execution_count": null,
      "id": "d5d1b8fc",
      "metadata": {
        "id": "d5d1b8fc"
      },
      "outputs": [],
      "source": [
        "df['cluster'] = cluster\n",
        "df"
      ]
    },
    {
      "cell_type": "code",
      "execution_count": null,
      "id": "91c7a30c",
      "metadata": {
        "id": "91c7a30c"
      },
      "outputs": [],
      "source": [
        "# saving the dataframe\n",
        "df.to_csv('Retail- clustering with outliers.csv')\n",
        "print('completed')"
      ]
    },
    {
      "cell_type": "markdown",
      "id": "178b41b1",
      "metadata": {
        "id": "178b41b1"
      },
      "source": [
        "### Insights"
      ]
    },
    {
      "cell_type": "code",
      "execution_count": null,
      "id": "6e876d04",
      "metadata": {
        "id": "6e876d04"
      },
      "outputs": [],
      "source": [
        "Cluster -1\n",
        "    UNIT PRICE = 4.03\n",
        "    AVG QTY: 10.36\n",
        "    FY_QTR: Q1, Q3, Q4\n",
        "    MEAN: THROUGH OUT DAY\n",
        "    WEEKDAY: ONLY THRUSDAY\n",
        "    ORDER STATUS: AROUND 2% CANCELLATION\n",
        "    COUNTRY: 1.4% NON UK ORDER WITH 2.7 % CANCELLATION\n",
        "\n",
        "Cluster = 2\n",
        "    UNIT PRICE = 4.17\n",
        "    AVG QTY: 10.8\n",
        "    FY_QTR: Q2\n",
        "    MEAN: THROUGH OUT DAY\n",
        "    WEEKDAY: WHOLE WEEK\n",
        "    ORDER STATUS: AROUND 1.7 % CANCELLATION\n",
        "    COUNTRY: MOSTLY FROM UK\n",
        "\n",
        "Cluster = 3\n",
        "    UNIT PRICE = 4.4\n",
        "    AVG QTY: 8.66\n",
        "    FY_QTR: Q3\n",
        "    MEAN: THROUGH OUT DAY\n",
        "    WEEKDAY: EXCEPT MONDAY & TRHUSDAY\n",
        "    ORDER STATUS: AROUND 1.0 % CANCELLATION\n",
        "    COUNTRY: MOSTLY FROM UK\n",
        "\n",
        "Cluster = 4\n",
        "    UNIT PRICE = 5.8 , MAX: 38970, MIN: -11062\n",
        "    AVG QTY: 8.17\n",
        "    FY_QTR: Q1,Q3,Q4\n",
        "    MEAN: THROUGH OUT DAY\n",
        "    WEEKDAY: ONLY MONDAY \n",
        "    ORDER STATUS: AROUND 1.8 % CANCELLATION\n",
        "\n",
        "Cluster = 5\n",
        "    UNIT PRICE = 4.94\n",
        "    AVG QTY: 9.06\n",
        "    FY_QTR: Q1,Q4\n",
        "    MEAN: THROUGH OUT DAY\n",
        "    WEEKDAY: EXCEPT MONDAY & TRHUSDAY\n",
        "    ORDER STATUS: AROUND 1.7 % CANCELLATION\n",
        "    COUNTRY: MOSTLY FROM UK"
      ]
    },
    {
      "cell_type": "markdown",
      "id": "bcf1487a",
      "metadata": {
        "id": "bcf1487a"
      },
      "source": [
        "### REMOVE OUTLIERS"
      ]
    },
    {
      "cell_type": "code",
      "execution_count": null,
      "id": "3c9b799e",
      "metadata": {
        "id": "3c9b799e",
        "outputId": "b14622f4-4b73-466f-8ad1-3bc57743329f",
        "colab": {
          "base_uri": "https://localhost:8080/",
          "height": 166
        }
      },
      "outputs": [
        {
          "output_type": "error",
          "ename": "NameError",
          "evalue": "ignored",
          "traceback": [
            "\u001b[0;31m---------------------------------------------------------------------------\u001b[0m",
            "\u001b[0;31mNameError\u001b[0m                                 Traceback (most recent call last)",
            "\u001b[0;32m<ipython-input-1-c42a15b2c7cf>\u001b[0m in \u001b[0;36m<module>\u001b[0;34m()\u001b[0m\n\u001b[0;32m----> 1\u001b[0;31m \u001b[0mdf\u001b[0m\u001b[0;34m.\u001b[0m\u001b[0mhead\u001b[0m\u001b[0;34m(\u001b[0m\u001b[0;34m)\u001b[0m\u001b[0;34m\u001b[0m\u001b[0;34m\u001b[0m\u001b[0m\n\u001b[0m",
            "\u001b[0;31mNameError\u001b[0m: name 'df' is not defined"
          ]
        }
      ],
      "source": [
        "df.head()"
      ]
    },
    {
      "cell_type": "code",
      "execution_count": null,
      "id": "3ea41ed1",
      "metadata": {
        "id": "3ea41ed1"
      },
      "outputs": [],
      "source": [
        "df.Quantity.describe()"
      ]
    },
    {
      "cell_type": "code",
      "execution_count": null,
      "id": "354478d6",
      "metadata": {
        "id": "354478d6"
      },
      "outputs": [],
      "source": [
        "sns.boxplot(df.Quantity)"
      ]
    },
    {
      "cell_type": "code",
      "execution_count": null,
      "id": "c2928138",
      "metadata": {
        "id": "c2928138"
      },
      "outputs": [],
      "source": [
        "df.loc[df.Quantity<-20000]"
      ]
    },
    {
      "cell_type": "code",
      "execution_count": null,
      "id": "c1446f05",
      "metadata": {
        "id": "c1446f05"
      },
      "outputs": [],
      "source": [
        "df.loc[df.Quantity> 20000]"
      ]
    },
    {
      "cell_type": "code",
      "execution_count": null,
      "id": "a22fb68e",
      "metadata": {
        "id": "a22fb68e"
      },
      "outputs": [],
      "source": [
        "df.drop(labels= [61619, 61624, 540421, 540422], axis=0, inplace=True)\n",
        "sns.boxplot(df.Quantity)"
      ]
    },
    {
      "cell_type": "code",
      "execution_count": null,
      "id": "b46a7ed8",
      "metadata": {
        "id": "b46a7ed8"
      },
      "outputs": [],
      "source": [
        "df.loc[df.Quantity< -4000]"
      ]
    },
    {
      "cell_type": "code",
      "execution_count": null,
      "id": "2eada869",
      "metadata": {
        "id": "2eada869"
      },
      "outputs": [],
      "source": [
        "df.loc[df.Quantity> 4000]"
      ]
    },
    {
      "cell_type": "code",
      "execution_count": null,
      "id": "24ba988e",
      "metadata": {
        "id": "24ba988e"
      },
      "outputs": [],
      "source": [
        "df.drop(labels= [4287, 115818, 225528, 225529, 225530, 431381, 74614, 206121, 421632, 502122], axis=0, inplace=True)\n",
        "sns.boxplot(df.Quantity)"
      ]
    },
    {
      "cell_type": "code",
      "execution_count": null,
      "id": "dea28304",
      "metadata": {
        "id": "dea28304"
      },
      "outputs": [],
      "source": [
        "df.loc[df.Quantity> 2000]"
      ]
    },
    {
      "cell_type": "code",
      "execution_count": null,
      "id": "df28bf25",
      "metadata": {
        "id": "df28bf25"
      },
      "outputs": [],
      "source": [
        "df.loc[df.Quantity< -1000]"
      ]
    },
    {
      "cell_type": "code",
      "execution_count": null,
      "id": "9d7aada8",
      "metadata": {
        "id": "9d7aada8"
      },
      "outputs": [],
      "source": [
        "df.drop(df[df.Quantity > 2000].index, axis=0, inplace=True)"
      ]
    },
    {
      "cell_type": "code",
      "execution_count": null,
      "id": "87856fd3",
      "metadata": {
        "id": "87856fd3"
      },
      "outputs": [],
      "source": [
        "df.drop(df[df.Quantity < -1000].index, axis=0, inplace=True)"
      ]
    },
    {
      "cell_type": "code",
      "execution_count": null,
      "id": "bd7745a4",
      "metadata": {
        "id": "bd7745a4"
      },
      "outputs": [],
      "source": [
        "sns.boxplot(df.Quantity)"
      ]
    },
    {
      "cell_type": "markdown",
      "id": "44bd6e78",
      "metadata": {
        "id": "44bd6e78"
      },
      "source": [
        "\n",
        "#### Unit Price"
      ]
    },
    {
      "cell_type": "code",
      "execution_count": null,
      "id": "08ff8f35",
      "metadata": {
        "id": "08ff8f35"
      },
      "outputs": [],
      "source": [
        "df.UnitPrice.describe()"
      ]
    },
    {
      "cell_type": "code",
      "execution_count": null,
      "id": "a8ae6ed8",
      "metadata": {
        "id": "a8ae6ed8"
      },
      "outputs": [],
      "source": [
        "sns.boxplot(df.UnitPrice)"
      ]
    },
    {
      "cell_type": "code",
      "execution_count": null,
      "id": "a2b6fb79",
      "metadata": {
        "id": "a2b6fb79"
      },
      "outputs": [],
      "source": [
        "df.loc[df.UnitPrice > 1000]"
      ]
    },
    {
      "cell_type": "code",
      "execution_count": null,
      "id": "4d8f4018",
      "metadata": {
        "id": "4d8f4018"
      },
      "outputs": [],
      "source": [
        "df.loc[df.UnitPrice <0]"
      ]
    },
    {
      "cell_type": "code",
      "execution_count": null,
      "id": "7c9e878b",
      "metadata": {
        "id": "7c9e878b"
      },
      "outputs": [],
      "source": [
        "df.drop(df[df.UnitPrice <0].index, axis=0, inplace=True)"
      ]
    },
    {
      "cell_type": "code",
      "execution_count": null,
      "id": "f39eeda8",
      "metadata": {
        "id": "f39eeda8"
      },
      "outputs": [],
      "source": [
        "sns.boxplot(df.UnitPrice)"
      ]
    },
    {
      "cell_type": "code",
      "execution_count": null,
      "id": "75d578a6",
      "metadata": {
        "id": "75d578a6"
      },
      "outputs": [],
      "source": [
        "df.drop(df[df.UnitPrice > 1000].index, axis=0, inplace=True)\n",
        "sns.boxplot(df.UnitPrice)"
      ]
    },
    {
      "cell_type": "code",
      "execution_count": null,
      "id": "18ecaa38",
      "metadata": {
        "id": "18ecaa38"
      },
      "outputs": [],
      "source": [
        "df.loc[df.UnitPrice > 200]"
      ]
    },
    {
      "cell_type": "code",
      "execution_count": null,
      "id": "c12b225c",
      "metadata": {
        "id": "c12b225c"
      },
      "outputs": [],
      "source": [
        "df.drop(df[df.UnitPrice > 200].index, axis=0, inplace=True)\n",
        "sns.boxplot(df.UnitPrice)"
      ]
    },
    {
      "cell_type": "code",
      "execution_count": null,
      "id": "870ad629",
      "metadata": {
        "id": "870ad629"
      },
      "outputs": [],
      "source": [
        "df"
      ]
    },
    {
      "cell_type": "code",
      "execution_count": null,
      "id": "5473b094",
      "metadata": {
        "id": "5473b094"
      },
      "outputs": [],
      "source": [
        ""
      ]
    },
    {
      "cell_type": "code",
      "execution_count": null,
      "id": "999a7101",
      "metadata": {
        "id": "999a7101"
      },
      "outputs": [],
      "source": [
        ""
      ]
    },
    {
      "cell_type": "markdown",
      "id": "dc42a960",
      "metadata": {
        "id": "dc42a960"
      },
      "source": [
        "##### After removing outlier make a copy and save it"
      ]
    },
    {
      "cell_type": "code",
      "execution_count": null,
      "id": "a7e4f374",
      "metadata": {
        "id": "a7e4f374"
      },
      "outputs": [],
      "source": [
        "# saving the dataframe\n",
        "df.to_csv('Retail- clustering without outliers.csv')\n",
        "print('completed')"
      ]
    },
    {
      "cell_type": "code",
      "execution_count": null,
      "id": "66033f60",
      "metadata": {
        "id": "66033f60"
      },
      "outputs": [],
      "source": [
        "df2= df.copy()\n",
        "df2"
      ]
    },
    {
      "cell_type": "code",
      "execution_count": null,
      "id": "6aa25e0f",
      "metadata": {
        "id": "6aa25e0f"
      },
      "outputs": [],
      "source": [
        "df2.columns"
      ]
    },
    {
      "cell_type": "code",
      "execution_count": null,
      "id": "f564f2ad",
      "metadata": {
        "id": "f564f2ad"
      },
      "outputs": [],
      "source": [
        "df2.drop(['InvoiceNo', 'StockCode', 'Description', 'InvoiceDate', 'CustomerID', 'Hour', 'Month'], axis=1, inplace=True)\n",
        "df2.head(3)"
      ]
    },
    {
      "cell_type": "code",
      "execution_count": null,
      "id": "fbecf3d1",
      "metadata": {
        "id": "fbecf3d1"
      },
      "outputs": [],
      "source": [
        "df2.drop(['cluster'], axis=1, inplace=True)\n",
        "df2.head(3)"
      ]
    },
    {
      "cell_type": "code",
      "execution_count": null,
      "id": "7facda7d",
      "metadata": {
        "id": "7facda7d"
      },
      "outputs": [],
      "source": [
        "# --> we can do one hot encoding here\n",
        "\n",
        "df2.Country= df2.Country.astype('category')\n",
        "df2.Country= df2.Country.cat.codes\n",
        "df2= pd.get_dummies(df2, columns= ['Country'])\n",
        "\n",
        "df2['Order Status'] = df2['Order Status'].astype('category')\n",
        "df2['Order Status']= df2['Order Status'].cat.codes\n",
        "df2= pd.get_dummies(df2, columns= ['Order Status'])\n",
        "\n",
        "df2.Weekday= df2.Weekday.astype('category')\n",
        "df2.Weekday= df2.Weekday.cat.codes\n",
        "df2= pd.get_dummies(df2, columns= ['Weekday'])\n",
        "\n",
        "df2['Week no'] = df2['Week no'].astype('category')\n",
        "df2['Week no']= df2['Week no'].cat.codes\n",
        "df2= pd.get_dummies(df2, columns= ['Week no'])\n",
        "\n",
        "df2.MAEN= df2.MAEN.astype('category')\n",
        "df2.MAEN= df2.MAEN.cat.codes\n",
        "df2= pd.get_dummies(df2, columns= ['MAEN'])\n",
        "\n",
        "df2.FY_QTR= df2.FY_QTR.astype('category')\n",
        "df2.FY_QTR= df2.FY_QTR.cat.codes\n",
        "df2= pd.get_dummies(df2, columns= ['FY_QTR'])"
      ]
    },
    {
      "cell_type": "code",
      "execution_count": null,
      "id": "74b310bc",
      "metadata": {
        "id": "74b310bc"
      },
      "outputs": [],
      "source": [
        "df2.drop(['Country_0', 'Order Status_0', 'Weekday_0', 'Week no_0', 'MAEN_0', 'FY_QTR_0'], axis=1, inplace=True)"
      ]
    },
    {
      "cell_type": "code",
      "execution_count": null,
      "id": "e6da13c8",
      "metadata": {
        "id": "e6da13c8"
      },
      "outputs": [],
      "source": [
        "from sklearn.preprocessing import MinMaxScaler\n",
        "mm2= MinMaxScaler()\n",
        "mm2.fit(df2)\n",
        "mm_trans2 = mm2.transform(df2)"
      ]
    },
    {
      "cell_type": "code",
      "execution_count": null,
      "id": "f908a868",
      "metadata": {
        "id": "f908a868"
      },
      "outputs": [],
      "source": [
        "df_mm2= pd.DataFrame(mm_trans2, columns=df2.columns)\n",
        "df_mm2.head()"
      ]
    },
    {
      "cell_type": "code",
      "execution_count": null,
      "id": "a9791d4a",
      "metadata": {
        "id": "a9791d4a"
      },
      "outputs": [],
      "source": [
        "from sklearn.cluster import KMeans\n",
        "wcss_mm2 =[]                                                                 # wcss = Within-Cluster-Sum-of-Squares\n",
        "for i in range(1,15):    \n",
        "    kmeans_mm2= KMeans(n_clusters=i, init='k-means++', random_state=101)\n",
        "    kmeans_mm2.fit(df_mm2)                                                        # fitting Kmeans algo to array\n",
        "    wcss_mm2.append(kmeans_mm2.inertia_)\n",
        "    \n",
        "plt.plot(range(1,15),wcss_mm2) \n",
        "plt.title('The Elbow Method plot')\n",
        "plt.xlabel('K-value or number of clusters')\n",
        "plt.ylabel('WCSS(within clusters sum-of-squares)')"
      ]
    },
    {
      "cell_type": "code",
      "execution_count": null,
      "id": "fc7a6848",
      "metadata": {
        "id": "fc7a6848"
      },
      "outputs": [],
      "source": [
        "from kneed import KneeLocator\n",
        "kn2 = KneeLocator(range(1,15), wcss_mm2, curve = 'convex', direction='decreasing')\n",
        "print('Best k-value from Elbow curve: ',kn2.knee)"
      ]
    },
    {
      "cell_type": "code",
      "execution_count": null,
      "id": "e8ebb13b",
      "metadata": {
        "id": "e8ebb13b"
      },
      "outputs": [],
      "source": [
        "# Fitting K-Means to the dataset\n",
        "\n",
        "kmeans_f2 = KMeans(n_clusters = 3, random_state =101)\n",
        "y_kmeans2 = kmeans_f2.fit_predict(df_mm2)\n",
        "\n",
        "\n",
        "# New Dataframe called cluster\n",
        "cluster2 = pd.DataFrame(y_kmeans2)\n",
        "\n",
        "# Adding cluster to the Dataset\n",
        "df_mm2['cluster'] = cluster2"
      ]
    },
    {
      "cell_type": "code",
      "execution_count": null,
      "id": "c1df3105",
      "metadata": {
        "id": "c1df3105"
      },
      "outputs": [],
      "source": [
        "df_mm2"
      ]
    },
    {
      "cell_type": "code",
      "execution_count": null,
      "id": "0eab1d45",
      "metadata": {
        "id": "0eab1d45"
      },
      "outputs": [],
      "source": [
        "max(df_mm2.UnitPrice)"
      ]
    },
    {
      "cell_type": "code",
      "execution_count": null,
      "id": "44f406e1",
      "metadata": {
        "id": "44f406e1"
      },
      "outputs": [],
      "source": [
        "df"
      ]
    },
    {
      "cell_type": "code",
      "execution_count": null,
      "id": "dd24d266",
      "metadata": {
        "id": "dd24d266"
      },
      "outputs": [],
      "source": [
        "df.drop('cluster', axis=1, inplace=True)\n",
        "df.head(3)"
      ]
    },
    {
      "cell_type": "code",
      "execution_count": null,
      "id": "9003f3fe",
      "metadata": {
        "id": "9003f3fe"
      },
      "outputs": [],
      "source": [
        "df['cluster'] = cluster2\n",
        "df.head(3)"
      ]
    },
    {
      "cell_type": "code",
      "execution_count": null,
      "id": "bc4fa573",
      "metadata": {
        "id": "bc4fa573"
      },
      "outputs": [],
      "source": [
        "df.cluster.value_counts()"
      ]
    },
    {
      "cell_type": "code",
      "execution_count": null,
      "id": "1ad3c2c6",
      "metadata": {
        "id": "1ad3c2c6"
      },
      "outputs": [],
      "source": [
        "# saving the dataframe\n",
        "df.to_csv('Retail-clustering no outliers.csv')\n",
        "print('completed')"
      ]
    },
    {
      "cell_type": "code",
      "execution_count": null,
      "id": "548ce11c",
      "metadata": {
        "id": "548ce11c"
      },
      "outputs": [],
      "source": [
        ""
      ]
    }
  ],
  "metadata": {
    "kernelspec": {
      "display_name": "Python 3 (ipykernel)",
      "language": "python",
      "name": "python3"
    },
    "language_info": {
      "codemirror_mode": {
        "name": "ipython",
        "version": 3
      },
      "file_extension": ".py",
      "mimetype": "text/x-python",
      "name": "python",
      "nbconvert_exporter": "python",
      "pygments_lexer": "ipython3",
      "version": "3.9.7"
    },
    "colab": {
      "name": "Retail- Clustering.ipynb",
      "provenance": []
    }
  },
  "nbformat": 4,
  "nbformat_minor": 5
}